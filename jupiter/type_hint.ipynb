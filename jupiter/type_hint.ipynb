{
  "nbformat": 4,
  "nbformat_minor": 0,
  "metadata": {
    "colab": {
      "name": "type_hint.ipynb",
      "provenance": [],
      "collapsed_sections": []
    },
    "kernelspec": {
      "name": "python3",
      "display_name": "Python 3"
    },
    "language_info": {
      "name": "python"
    }
  },
  "cells": [
    {
      "cell_type": "markdown",
      "source": [
        "# 파이썬의 타입 힌트\n",
        "Python 3.5 버전에는 다음과 같은 형식으로 IDE와 코드 가독성에 도움을 줄 수 있도록 함수의 인자와 반환값에 대한 타입 힌트가 처음으로 도입"
      ],
      "metadata": {
        "id": "S61g6C-jB4DU"
      }
    },
    {
      "cell_type": "code",
      "execution_count": null,
      "metadata": {
        "id": "el2vh6R2BufU"
      },
      "outputs": [],
      "source": [
        "def greeting(name: str) -> str:\n",
        "  return 'Hello ' + name"
      ]
    },
    {
      "cell_type": "markdown",
      "source": [
        "그리고 후에 나온 3.6 버전에서는 인자와 반환값 만이 아니라 변수에도 타입 힌트 표기가 가능해졌다."
      ],
      "metadata": {
        "id": "_G14Gsf7CUHr"
      }
    },
    {
      "cell_type": "code",
      "source": [
        "def greeting(name: str) -> str:\n",
        "  s: str = 'Hello ' + name\n",
        "  return s"
      ],
      "metadata": {
        "id": "KP4hsij3CVmv"
      },
      "execution_count": null,
      "outputs": []
    }
  ]
}