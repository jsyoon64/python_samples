{
 "cells": [
  {
   "cell_type": "markdown",
   "metadata": {},
   "source": [
    "# tkinter event generater"
   ]
  },
  {
   "cell_type": "code",
   "execution_count": 3,
   "metadata": {},
   "outputs": [],
   "source": [
    "from tkinter import *\n",
    "\n",
    "def doFoo(*args):\n",
    "    print(\"Hello, world\")\n",
    "\n",
    "root = Tk()\n",
    "root.bind(\"<<Foo>>\", doFoo)\n",
    "\n",
    "# some time later, inject the \"<<Foo>>\" virtual event at the\n",
    "# tail of the event queue\n",
    "root.event_generate(\"<<Foo>>\", when=\"tail\")"
   ]
  },
  {
   "cell_type": "markdown",
   "metadata": {},
   "source": [
    "### https://stackoverflow.com/questions/45661413/tkinter-thread-communication"
   ]
  },
  {
   "cell_type": "code",
   "execution_count": null,
   "metadata": {},
   "outputs": [],
   "source": [
    "import tkinter as tk\n",
    "import threading\n",
    "import queue\n",
    "import time\n",
    "\n",
    "def generate_text(mainwin, storage):\n",
    "    count = 0\n",
    "    while True:\n",
    "        message = \"Item {}\".format(count)\n",
    "        storage.put(message)\n",
    "        print(\"Queued {0}\".format(message))\n",
    "        count += 1\n",
    "        mainwin.event_generate('<<MessageGenerated>>')\n",
    "        time.sleep(3000/1000)\n",
    "\n",
    "def process(storage, event):\n",
    "    msg = storage.get()\n",
    "    print(\"New message: {0}\".format(msg))\n",
    "\n",
    "def main():\n",
    "    message_queue = queue.Queue()\n",
    "    root = tk.Tk()\n",
    "    root.bind('<<MessageGenerated>>', lambda e: process(message_queue, e))\n",
    "    t = threading.Thread(target=generate_text, args=(root, message_queue,))\n",
    "    t.setDaemon(True)\n",
    "    t.start()\n",
    "    root.mainloop()\n",
    "\n",
    "if __name__ == '__main__':\n",
    "    # main()"
   ]
  }
 ],
 "metadata": {
  "kernelspec": {
   "display_name": "Python 3.10.2 ('_venv': venv)",
   "language": "python",
   "name": "python3"
  },
  "language_info": {
   "codemirror_mode": {
    "name": "ipython",
    "version": 3
   },
   "file_extension": ".py",
   "mimetype": "text/x-python",
   "name": "python",
   "nbconvert_exporter": "python",
   "pygments_lexer": "ipython3",
   "version": "3.10.2"
  },
  "orig_nbformat": 4,
  "vscode": {
   "interpreter": {
    "hash": "85a5ea10e8d90634b53ecfa6b33e2101cc6e01e1e8ad7fba73ed982dd81d5947"
   }
  }
 },
 "nbformat": 4,
 "nbformat_minor": 2
}
