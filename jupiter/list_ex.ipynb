{
 "cells": [
  {
   "cell_type": "markdown",
   "metadata": {},
   "source": [
    "### List reversing"
   ]
  },
  {
   "cell_type": "code",
   "execution_count": 3,
   "metadata": {},
   "outputs": [
    {
     "name": "stdout",
     "output_type": "stream",
     "text": [
      "dlrow olleH\n",
      "[4, 3, 2, 1]\n"
     ]
    }
   ],
   "source": [
    "hello = \"Hello world\"\n",
    "nums = [1, 2, 3, 4]\n",
    "print(hello[::-1])\n",
    "print(nums[::-1])"
   ]
  },
  {
   "cell_type": "code",
   "execution_count": 6,
   "metadata": {},
   "outputs": [
    {
     "name": "stdout",
     "output_type": "stream",
     "text": [
      "[6, 7, 8, 9, 10]\n"
     ]
    }
   ],
   "source": [
    "nums = [1, 2, 3, 4,5,6,7,8,9,10]\n",
    "\n",
    "nums_R5 = nums[-5:]\n",
    "\n",
    "print(nums_R5)"
   ]
  }
 ],
 "metadata": {
  "kernelspec": {
   "display_name": "Python 3.10.2 ('_venv': venv)",
   "language": "python",
   "name": "python3"
  },
  "language_info": {
   "codemirror_mode": {
    "name": "ipython",
    "version": 3
   },
   "file_extension": ".py",
   "mimetype": "text/x-python",
   "name": "python",
   "nbconvert_exporter": "python",
   "pygments_lexer": "ipython3",
   "version": "3.10.2"
  },
  "orig_nbformat": 4,
  "vscode": {
   "interpreter": {
    "hash": "85a5ea10e8d90634b53ecfa6b33e2101cc6e01e1e8ad7fba73ed982dd81d5947"
   }
  }
 },
 "nbformat": 4,
 "nbformat_minor": 2
}
