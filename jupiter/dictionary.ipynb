{
  "cells": [
    {
      "cell_type": "markdown",
      "metadata": {
        "id": "IS2gcrN6NIIz"
      },
      "source": [
        "Nest Dictionary Example 1 "
      ]
    },
    {
      "cell_type": "code",
      "execution_count": 6,
      "metadata": {
        "colab": {
          "base_uri": "https://localhost:8080/"
        },
        "id": "-MeGpvEQMfSe",
        "outputId": "5f01a9ab-78a5-4a20-8e48-49fc1bb94fce"
      },
      "outputs": [
        {
          "name": "stdout",
          "output_type": "stream",
          "text": [
            "{'DATA': {1: {'A': 1, 'B': 'on', 'C': 0.1}}, 'CTRL': {1: {'isSend': 0, 'isDownload': 0, 'index': 0}}}\n"
          ]
        }
      ],
      "source": [
        "# empty nest dictionary\n",
        "clients = {'DATA':{}, 'CTRL':{}}\n",
        "\n",
        "# test1 dictionary\n",
        "def_data = {'A':1,'B':'on','C':0.1}\n",
        "def_ctrl = {'isSend':0, 'isDownload':0, 'index':0}\n",
        "\n",
        "id = 1\n",
        "\n",
        "if id not in clients:\n",
        "  #clients[id] = def_data.copy()\n",
        "  clients['DATA'][id] = def_data.copy()\n",
        "  clients['CTRL'][id] = def_ctrl.copy()\n",
        "\n",
        "print (clients)"
      ]
    },
    {
      "cell_type": "markdown",
      "metadata": {
        "id": "T4_jqfqfNOd3"
      },
      "source": [
        "Nest Dictionary  Example2"
      ]
    },
    {
      "cell_type": "code",
      "execution_count": 11,
      "metadata": {
        "colab": {
          "base_uri": "https://localhost:8080/"
        },
        "id": "a0aO1X1dNMgR",
        "outputId": "45b5255a-242c-446e-fe86-435167909a72"
      },
      "outputs": [
        {
          "name": "stdout",
          "output_type": "stream",
          "text": [
            "{0: {'DATA': {'A': 1, 'B': 'on', 'C': 0.1}, 'CTRL': {'isSend': 0, 'isDownload': 0, 'index': 0}}, 1: {'DATA': {'A': 1, 'B': 'on', 'C': 0.1}, 'CTRL': {'isSend': 0, 'isDownload': 0, 'index': 0}}, 2: {'DATA': {'A': 1, 'B': 'on', 'C': 0.1}, 'CTRL': {'isSend': 0, 'isDownload': 0, 'index': 0}}}\n"
          ]
        }
      ],
      "source": [
        "# empyt dictionary\n",
        "clients = {}\n",
        "\n",
        "# test1 dictionary\n",
        "def_data = {'A':1,'B':'on','C':0.1}\n",
        "def_ctrl = {'isSend':0, 'isDownload':0, 'index':0}\n",
        "\n",
        "for id in range(3):\n",
        "  if id not in clients:\n",
        "    clients[id] = {}\n",
        "    clients[id]['DATA'] = def_data.copy()\n",
        "    clients[id]['CTRL'] = def_ctrl.copy()\n",
        "\n",
        "  #print(clients[id])\n",
        "\n",
        "print (clients)"
      ]
    },
    {
      "cell_type": "markdown",
      "metadata": {
        "id": "kz2MOwvzg55b"
      },
      "source": [
        "Dictionary Add & Remove"
      ]
    },
    {
      "cell_type": "code",
      "execution_count": 5,
      "metadata": {
        "colab": {
          "base_uri": "https://localhost:8080/"
        },
        "id": "YfIp79gAhAMz",
        "outputId": "3d81ce72-49df-4f53-a303-d07a0a889894"
      },
      "outputs": [
        {
          "name": "stdout",
          "output_type": "stream",
          "text": [
            "Example1 Add, dd is {'1': 1, 'TEST': 123}\n",
            "Example2 Delete, dd is {'1': 1}\n",
            "bb is {'ID': {'1': 1, 'TT': 'TT'}}\n",
            "dd is {'TT': 'TT'}\n",
            "bb is {'ID': {'TT': 'TT'}}\n"
          ]
        }
      ],
      "source": [
        "dd = dict()\n",
        "cc = dict()\n",
        "bb = dict()\n",
        "\n",
        "cc['1'] = 1\n",
        "dd = cc.copy()\n",
        "\n",
        "# Example1 Add\n",
        "dd['TEST'] = 123\n",
        "print('Example1 Add, dd is',dd)\n",
        "\n",
        "# Example2 Delete\n",
        "del dd[\"TEST\"]\n",
        "print('Example2 Delete, dd is',dd)\n",
        "\n",
        "dd['TT'] = 'TT'\n",
        "\n",
        "bb['ID'] = dd\n",
        "\n",
        "print('bb is',bb)\n",
        "del dd['1']\n",
        "print ('dd is', dd)\n",
        "print ('bb is', bb)"
      ]
    },
    {
      "cell_type": "code",
      "execution_count": 7,
      "metadata": {},
      "outputs": [
        {
          "name": "stdout",
          "output_type": "stream",
          "text": [
            "PWR aa\n",
            "PPP bb\n",
            "RESP {'PWR': 'aa', 'PPP': 'bb'}\n",
            "{'RESP': {'PWR': 'aa'}}\n",
            "delete success\n"
          ]
        }
      ],
      "source": [
        "dd = dict()\n",
        "dd['RESP'] = dict()\n",
        "dd['RESP']['PWR'] = 'aa'\n",
        "dd['RESP']['PPP'] = 'bb'\n",
        "\n",
        "for key,val in dd['RESP'].items():\n",
        "    print(key,val)\n",
        "\n",
        "for key,val in dd.items():\n",
        "    print(key,val)    \n",
        "\n",
        "\n",
        "del dd['RESP']['PPP']\n",
        "print (dd)\n",
        "\n",
        "if 'PPP' in dd['RESP']:\n",
        "    print('delete fail')\n",
        "else:\n",
        "    print('delete success')\n"
      ]
    }
  ],
  "metadata": {
    "colab": {
      "collapsed_sections": [],
      "name": "dictionary.ipynb",
      "provenance": []
    },
    "kernelspec": {
      "display_name": "Python 3.10.2 64-bit",
      "language": "python",
      "name": "python3"
    },
    "language_info": {
      "codemirror_mode": {
        "name": "ipython",
        "version": 3
      },
      "file_extension": ".py",
      "mimetype": "text/x-python",
      "name": "python",
      "nbconvert_exporter": "python",
      "pygments_lexer": "ipython3",
      "version": "3.10.2"
    },
    "vscode": {
      "interpreter": {
        "hash": "369f2c481f4da34e4445cda3fffd2e751bd1c4d706f27375911949ba6bb62e1c"
      }
    }
  },
  "nbformat": 4,
  "nbformat_minor": 0
}
