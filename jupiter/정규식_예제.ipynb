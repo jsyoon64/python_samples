{
 "cells": [
  {
   "cell_type": "markdown",
   "id": "9ae96ebb",
   "metadata": {},
   "source": [
    "### 정규표현식"
   ]
  },
  {
   "cell_type": "raw",
   "id": "2ba489b8",
   "metadata": {},
   "source": [
    "- \\s : Any whitespace character\n",
    "- \\S : Any Non-whitespace character(모든문자)\n",
    "- \\d : Any digit\n",
    "- \\D : Any non-digit(숫자 아닌 모든 것)\n",
    "- \\w : Any word character(Matches any letter, digit or underscore. Equivalent to [a-zA-Z0-9_].)\n",
    "- \\W : Any non-word character(Matches any letter, digit or underscore. Equivalent to [^a-zA-Z0-9_].)\n",
    "- () : capture everything enclosed.\n",
    "- ?  : Zero or 1.\n",
    "- *  : Zero or more.\n",
    "- +  : one or more.\n",
    "- a{3}: Exactly 3 of a\n",
    "- a{3,}: 3 or more of a\n",
    "- a{3,6}: between 3 and 6 of a\n",
    "- ^ : Start of string\n",
    "- $ : End of string (\\w+$ --> string 부분 의미)"
   ]
  },
  {
   "cell_type": "markdown",
   "id": "30249b83",
   "metadata": {},
   "source": [
    "### search"
   ]
  },
  {
   "cell_type": "code",
   "execution_count": 4,
   "id": "488254db",
   "metadata": {},
   "outputs": [
    {
     "name": "stdout",
     "output_type": "stream",
     "text": [
      "filename=\"testtext.bin\"\n",
      "testtext.bin\n",
      "port http://192.168.0.62:8080\n",
      "port 192.168.0.62\n",
      "port 8080\n",
      "port1 http://192.168.0.62:8080\n",
      "port1 http://192.168.0.62\n",
      "port1 8080\n"
     ]
    }
   ],
   "source": [
    "import re\n",
    "\n",
    "disposition='form-data; name=\"file\"; filename=\"testtext.bin\"'\n",
    "# disposition='form-data; name=\"file\"; '\n",
    "obj = re.search('filename=\"([^\\r\\n]+)\"',disposition)\n",
    "if obj is not None:\n",
    "    print(obj.group(0))\n",
    "    print(obj.group(1))\n",
    "else:\n",
    "    print('obj is none')\n",
    "\n",
    "url1 = 'http://192.168.0.62:8080'\n",
    "port = re.search('http:\\/\\/(\\d+.\\d+.\\d+.\\d+):(\\d+)',url1)\n",
    "print('port', port.group(0))\n",
    "print('port', port.group(1))\n",
    "print('port', port.group(2))\n",
    "\n",
    "port1 = re.search('(\\S{4,5}:\\/\\/\\d+.\\d+.\\d+.\\d+):(\\d+)',url1)\n",
    "print('port1', port1.group(0))\n",
    "print('port1', port1.group(1))\n",
    "print('port1', port1.group(2))\n",
    "\n"
   ]
  },
  {
   "cell_type": "markdown",
   "id": "99d1169c",
   "metadata": {},
   "source": [
    "### compile"
   ]
  },
  {
   "cell_type": "code",
   "execution_count": 6,
   "id": "ec7450ab",
   "metadata": {},
   "outputs": [
    {
     "name": "stdout",
     "output_type": "stream",
     "text": [
      "match: None\n",
      "search: <re.Match object; span=(24, 47), match='filename=\"testtext.bin\"'>\n",
      "search.group(0) filename=\"testtext.bin\"\n",
      "search.group(1) testtext.bin\n",
      "form-data; name=\"file\"; \n"
     ]
    }
   ],
   "source": [
    "import re\n",
    "\n",
    "disposition='form-data; name=\"file\"; filename=\"testtext.bin\"'\n",
    "obj = re.compile('filename=\"([^\\r\\n]+)\"')\n",
    "\n",
    "# match 문자열의 처음 시작부터 검색하여 일치하지 않는 부분이 나올 때까지 찾는다.\n",
    "print('match:',obj.match(disposition))\n",
    "\n",
    "# search 문자열 전체에서 검색하여 처음으로 매치되는 문자열을 찾는다.\n",
    "aa = obj.search(disposition)\n",
    "print('search:',aa)\n",
    "print('search.group(0)',aa.group(0))\n",
    "print('search.group(1)',aa.group(1))\n",
    "\n",
    "print(obj.sub('',disposition))\n",
    "\n"
   ]
  },
  {
   "cell_type": "markdown",
   "id": "c1e1bd2a",
   "metadata": {},
   "source": [
    "### binary, raw string 표시, 치환"
   ]
  },
  {
   "cell_type": "code",
   "execution_count": 26,
   "id": "1d8e695a",
   "metadata": {},
   "outputs": [
    {
     "name": "stdout",
     "output_type": "stream",
     "text": [
      "b'15:57:02.301 Sensors_adc_sta  208 H EVSE ADC Value(3670), Volt(12.20), MVolt(12.70)\\r\\n'\n",
      "15:57:02.301 Sensors_adc_sta  208 H EVSE ADC Value(3670), Volt(12.20), MVolt(12.70)\n",
      "\n"
     ]
    }
   ],
   "source": [
    "ansi_escape = re.compile(br'\\x1B\\[[0-?]*[ -\\/]*[@-~]')\n",
    "targetbytes = b'\\x1b[33m15:57:02.301 Sensors_adc_sta  208 H EVSE ADC Value(3670), Volt(12.20), MVolt(12.70)\\r\\n'\n",
    "\n",
    "# 찾은 문자를 ''으로 치환 : 즉 삭제\n",
    "aa = ansi_escape.sub(b'',targetbytes)\n",
    "print(aa)\n",
    "print(str(aa,'utf-8'))"
   ]
  }
 ],
 "metadata": {
  "kernelspec": {
   "display_name": "Python 3.7.2 32-bit",
   "language": "python",
   "name": "python3"
  },
  "language_info": {
   "codemirror_mode": {
    "name": "ipython",
    "version": 3
   },
   "file_extension": ".py",
   "mimetype": "text/x-python",
   "name": "python",
   "nbconvert_exporter": "python",
   "pygments_lexer": "ipython3",
   "version": "3.7.2"
  },
  "vscode": {
   "interpreter": {
    "hash": "9e1ba758841a905c8041a0f1f2ad094892d112b5778f2e1c89c4c9a1e17378e6"
   }
  }
 },
 "nbformat": 4,
 "nbformat_minor": 5
}
