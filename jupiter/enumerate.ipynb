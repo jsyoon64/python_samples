{
 "cells": [
  {
   "cell_type": "code",
   "execution_count": 3,
   "metadata": {},
   "outputs": [
    {
     "name": "stdout",
     "output_type": "stream",
     "text": [
      "2 CON1\n",
      "3 CON2\n",
      "4 USB1\n",
      "5 USB2\n"
     ]
    }
   ],
   "source": [
    "DispKeys = ['ID', 'site', 'CON1', 'CON2', 'USB1','USB2']\n",
    "\n",
    "for idx,name in enumerate(DispKeys[DispKeys.index('CON1'):], start=DispKeys.index('CON1')):\n",
    "    print(idx,name)\n"
   ]
  },
  {
   "cell_type": "code",
   "execution_count": 1,
   "metadata": {},
   "outputs": [
    {
     "name": "stdout",
     "output_type": "stream",
     "text": [
      "0 ID\n",
      "1 site\n"
     ]
    }
   ],
   "source": [
    "DispKeys = ['ID', 'site', 'CON1', 'CON2', 'USB1','USB2']\n",
    "\n",
    "for idx,name in enumerate(DispKeys[:DispKeys.index('CON1')]):\n",
    "    print(idx,name)\n"
   ]
  }
 ],
 "metadata": {
  "kernelspec": {
   "display_name": "Python 3.10.2 ('_venv': venv)",
   "language": "python",
   "name": "python3"
  },
  "language_info": {
   "codemirror_mode": {
    "name": "ipython",
    "version": 3
   },
   "file_extension": ".py",
   "mimetype": "text/x-python",
   "name": "python",
   "nbconvert_exporter": "python",
   "pygments_lexer": "ipython3",
   "version": "3.10.2"
  },
  "orig_nbformat": 4,
  "vscode": {
   "interpreter": {
    "hash": "85a5ea10e8d90634b53ecfa6b33e2101cc6e01e1e8ad7fba73ed982dd81d5947"
   }
  }
 },
 "nbformat": 4,
 "nbformat_minor": 2
}
