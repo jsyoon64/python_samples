{
  "nbformat": 4,
  "nbformat_minor": 0,
  "metadata": {
    "colab": {
      "name": "statemachine.ipynb",
      "provenance": [],
      "collapsed_sections": []
    },
    "kernelspec": {
      "name": "python3",
      "display_name": "Python 3"
    },
    "language_info": {
      "name": "python"
    }
  },
  "cells": [
    {
      "cell_type": "markdown",
      "source": [
        "# class를 이용한 statemachine 구현"
      ],
      "metadata": {
        "id": "yg6QnPMEidO9"
      }
    },
    {
      "cell_type": "code",
      "execution_count": null,
      "metadata": {
        "colab": {
          "base_uri": "https://localhost:8080/"
        },
        "id": "sR1D9RF-iZ-0",
        "outputId": "69152d7f-0e4c-44ae-d583-180d99963ac2"
      },
      "outputs": [
        {
          "output_type": "stream",
          "name": "stdout",
          "text": [
            "<class '__main__.ClosedConnection'>\n",
            "Not open\n",
            "<class '__main__.OpenConnection'>\n",
            "reading\n",
            "<class '__main__.ClosedConnection'>\n"
          ]
        }
      ],
      "source": [
        "class Connection:\n",
        "    def __init__(self):\n",
        "        self.new_state(ClosedConnection)\n",
        "\n",
        "    def new_state(self, state):\n",
        "        self.__class__ = state\n",
        "\n",
        "    def read(self):\n",
        "        raise NotImplementedError()\n",
        "\n",
        "    def write(self, data):\n",
        "        raise NotImplementedError()\n",
        "\n",
        "    def open(self):\n",
        "        raise NotImplementedError()\n",
        "\n",
        "    def close(self):\n",
        "        raise NotImplementedError()\n",
        "\n",
        "class ClosedConnection(Connection):\n",
        "    def read(self):\n",
        "        raise RuntimeError('Not open')\n",
        "\n",
        "    def write(self, data):\n",
        "        raise RuntimeError('Not open')\n",
        "\n",
        "    def open(self):\n",
        "        self.new_state(OpenConnection)\n",
        "\n",
        "    def close(self):\n",
        "        raise RuntimeError('Already closed')\n",
        "\n",
        "class OpenConnection(Connection):\n",
        "    def read(self):\n",
        "        print('reading')\n",
        "\n",
        "    def write(self, data):\n",
        "        print('writing')\n",
        "\n",
        "    def open(self):\n",
        "        raise RuntimeError('Already open')\n",
        "\n",
        "    def close(self):\n",
        "        self.new_state(ClosedConnection)\n",
        "\n",
        "# Example\n",
        "if __name__ == '__main__':\n",
        "    c = Connection()\n",
        "    #print(c)\n",
        "    print(c.__class__)\n",
        "    try:\n",
        "        c.read()\n",
        "    except RuntimeError as e:\n",
        "        print(e)\n",
        "\n",
        "    c.open()\n",
        "    #print(c)\n",
        "    print(c.__class__)\n",
        "    c.read()\n",
        "    c.close()\n",
        "    #print(c)\n",
        "    print(c.__class__)\n"
      ]
    }
  ]
}