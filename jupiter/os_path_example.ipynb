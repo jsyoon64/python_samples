{
 "cells": [
  {
   "cell_type": "markdown",
   "metadata": {},
   "source": [
    "## os.path module"
   ]
  },
  {
   "cell_type": "markdown",
   "metadata": {},
   "source": [
    "### 1.디렉토리 경로, 파일명"
   ]
  },
  {
   "cell_type": "code",
   "execution_count": 1,
   "metadata": {},
   "outputs": [
    {
     "name": "stdout",
     "output_type": "stream",
     "text": [
      "dir_path='c:\\\\work\\\\python\\\\jupiter'\n",
      "file_with_path='c:\\\\work\\\\python\\\\jupiter\\\\test.py'\n",
      "dir_name='c:\\\\work\\\\python\\\\jupiter'\n",
      "basename='test.py'\n"
     ]
    }
   ],
   "source": [
    "import os\n",
    "\n",
    "dir_path = os.getcwd()\n",
    "file_with_path = os.path.join(dir_path,'test.py')\n",
    "print(f'{dir_path=}')\n",
    "print(f'{file_with_path=}')\n",
    "\n",
    "dir_name = os.path.dirname(file_with_path)\n",
    "print(f'{dir_name=}')\n",
    "\n",
    "# file_path = os.path.abspath(__file__)\n",
    "# print(f'{file_path=}')\n",
    "\n",
    "\n",
    "basename = os.path.basename(file_with_path)\n",
    "print(f'{basename=}')\n"
   ]
  },
  {
   "cell_type": "markdown",
   "metadata": {},
   "source": [
    "### 경로와 파일명을 한번에 분리"
   ]
  },
  {
   "cell_type": "code",
   "execution_count": 2,
   "metadata": {},
   "outputs": [
    {
     "name": "stdout",
     "output_type": "stream",
     "text": [
      "dir_name='c:\\\\work\\\\python\\\\jupiter', basename='test.py'\n"
     ]
    }
   ],
   "source": [
    "dirname, basename = os.path.split(file_with_path)\n",
    "print(f'{dir_name=}, {basename=}')"
   ]
  },
  {
   "cell_type": "markdown",
   "metadata": {},
   "source": [
    "### 파일명과 확장자 분리"
   ]
  },
  {
   "cell_type": "code",
   "execution_count": 3,
   "metadata": {},
   "outputs": [
    {
     "name": "stdout",
     "output_type": "stream",
     "text": [
      "name='test', ext='.py'\n"
     ]
    }
   ],
   "source": [
    "basename = os.path.basename(file_with_path)\n",
    "name,ext = os.path.splitext(basename)\n",
    "print(f'{name=}, {ext=}')"
   ]
  },
  {
   "cell_type": "code",
   "execution_count": 6,
   "metadata": {},
   "outputs": [
    {
     "name": "stdout",
     "output_type": "stream",
     "text": [
      "newname='testrrr.py'\n"
     ]
    }
   ],
   "source": [
    "newname = name+'rrr'+ext\n",
    "print(f'{newname=}')"
   ]
  }
 ],
 "metadata": {
  "kernelspec": {
   "display_name": "Python 3.10.2 ('_venv': venv)",
   "language": "python",
   "name": "python3"
  },
  "language_info": {
   "codemirror_mode": {
    "name": "ipython",
    "version": 3
   },
   "file_extension": ".py",
   "mimetype": "text/x-python",
   "name": "python",
   "nbconvert_exporter": "python",
   "pygments_lexer": "ipython3",
   "version": "3.10.2"
  },
  "orig_nbformat": 4,
  "vscode": {
   "interpreter": {
    "hash": "85a5ea10e8d90634b53ecfa6b33e2101cc6e01e1e8ad7fba73ed982dd81d5947"
   }
  }
 },
 "nbformat": 4,
 "nbformat_minor": 2
}
