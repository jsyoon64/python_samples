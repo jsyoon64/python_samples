{
  "nbformat": 4,
  "nbformat_minor": 0,
  "metadata": {
    "colab": {
      "name": "nest_example1.ipynb",
      "provenance": [],
      "collapsed_sections": []
    },
    "kernelspec": {
      "name": "python3",
      "display_name": "Python 3"
    },
    "language_info": {
      "name": "python"
    }
  },
  "cells": [
    {
      "cell_type": "code",
      "execution_count": null,
      "metadata": {
        "colab": {
          "base_uri": "https://localhost:8080/"
        },
        "id": "3aNixDZrUJTQ",
        "outputId": "497d938b-af51-41b0-f7c8-1f9b48e6a5ab"
      },
      "outputs": [
        {
          "output_type": "stream",
          "name": "stdout",
          "text": [
            "1 {'STATE': {'isAUTHon': 0, 'isCHARGEon': 2}, 'CTRL': {'isSendCMD': 0, 'isDownload': 0, 'CTR': 'X'}}\n",
            "2 {'STATE': {'isAUTHon': 0, 'isCHARGEon': 1}, 'CTRL': {'isSendCMD': 0, 'isDownload': 0, 'CTR': 'X'}}\n",
            "3 {'STATE': {'isAUTHon': 0, 'isCHARGEon': 0}, 'CTRL': {'isSendCMD': 0, 'isDownload': 0, 'CTR': 'X'}}\n"
          ]
        }
      ],
      "source": [
        "class s1:\n",
        "  def __init__(self, address):\n",
        "    #print(address)\n",
        "    pass\n",
        "\n",
        "\n",
        "class s2(s1):\n",
        "  def __init__(self,address,dictA):\n",
        "    super().__init__(address)\n",
        "    self.dicts2 = dictA\n",
        "  \n",
        "  def processing(self, intid):\n",
        "    if intid not in self.dicts2:\n",
        "      self.AddNewID(intid)\n",
        "    else:\n",
        "      self.UpdateData(intid)\n",
        "    #print(self.dicts2)\n",
        "\n",
        "  def AddNewID(self, id):\n",
        "    gui.AddNewID(id)\n",
        "\n",
        "  def UpdateData(self, id):\n",
        "    self.dicts2[id]['STATE']['isCHARGEon'] += 1\n",
        "\n",
        "class ctrGUI:\n",
        "  def_state = {'isAUTHon':0, 'isCHARGEon':0}\n",
        "  def_ctrl = {'isSendCMD':0,'isDownload':0, 'CTR':'X'}\n",
        "\n",
        "  def __init__(self, master, dictG):\n",
        "    self.clients = dictG\n",
        "\n",
        "  def AddNewID(self,id):\n",
        "    self.clients[id] = {}\n",
        "    #print(self.clients[id])\n",
        "    self.clients[id]['STATE'] = self.def_state.copy()\n",
        "    self.clients[id]['CTRL'] = self.def_ctrl.copy()\n",
        "\n",
        "\n",
        "clients = {}\n",
        "server = s2(('localhost',3300),clients)\n",
        "gui = ctrGUI('a', clients)\n",
        "server.processing(1)\n",
        "server.processing(2)\n",
        "server.processing(1)\n",
        "server.processing(1)\n",
        "server.processing(2)\n",
        "server.processing(3)\n",
        "\n",
        "for id, val in clients.items():\n",
        "  print(id, val)\n",
        "\n",
        "#for id in clients:\n",
        "#  print(id,clients[id])\n",
        "\n",
        "#print(clients)"
      ]
    }
  ]
}