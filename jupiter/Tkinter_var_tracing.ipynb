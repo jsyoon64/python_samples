{
  "cells": [
    {
      "cell_type": "markdown",
      "metadata": {
        "id": "q8RDKwUuprpG"
      },
      "source": [
        "#Tracing Tkinter variables in Python\n",
        "refer to https://www.geeksforgeeks.org/tracing-tkinter-variables-in-python/\n",
        "\n",
        "https://www.tutorialspoint.com/what-are-the-arguments-to-tkinter-variable-trace-method-callbacks"
      ]
    },
    {
      "cell_type": "code",
      "execution_count": 1,
      "metadata": {
        "colab": {
          "base_uri": "https://localhost:8080/",
          "height": 388
        },
        "id": "_jjzMKNErr7z",
        "outputId": "f4ca23b9-ad41-4dbb-b4d9-454b4c4efd47"
      },
      "outputs": [
        {
          "name": "stdout",
          "output_type": "stream",
          "text": [
            "Traced variable 1\n",
            "Traced variable 12\n",
            "Traced variable 121\n",
            "Traced variable 1212\n",
            "Traced variable 12121\n",
            "Traced variable 121212\n",
            "Traced variable 1212121\n",
            "Traced variable 12121212\n"
          ]
        }
      ],
      "source": [
        "from tkinter import *\n",
        "\n",
        "root = Tk()\n",
        "my_var = StringVar()\n",
        "\n",
        "# defining the callback function (observer)\n",
        "def my_callback(var, index, mode):\n",
        "    print(f\"Traced variable {my_var.get()}\")\n",
        "    \n",
        "# registering the observer\n",
        "# Syntax : trace_add(self, mode, callback_name) \n",
        "# Mode: It is one of “array”, “read”, “write”, “unset”, or a list or tuple of such strings. \n",
        "my_var.trace_variable('w', my_callback)\n",
        "#my_var.trace_variable('write', my_callback)\n",
        " \n",
        "Label(root, textvariable = my_var).pack(padx = 5, pady = 5)\n",
        " \n",
        "Entry(root, textvariable = my_var).pack(padx = 5, pady = 5)\n",
        " \n",
        "root.mainloop()"
      ]
    },
    {
      "cell_type": "markdown",
      "metadata": {},
      "source": [
        "# 다른 예제"
      ]
    },
    {
      "cell_type": "code",
      "execution_count": 5,
      "metadata": {},
      "outputs": [
        {
          "name": "stdout",
          "output_type": "stream",
          "text": [
            "직접 프린트 1\n",
            "2\n",
            "22\n",
            "221\n",
            "2\n"
          ]
        }
      ],
      "source": [
        "from tkinter import *\n",
        "\n",
        "class A:\n",
        "    def __init__(self):\n",
        "        self.master = Tk()\n",
        "        self.__setup()\n",
        "\n",
        "    def __setup(self):\n",
        "        idvalue = IntVar(self.master, name='idvalue1',value=1)\n",
        "        print('직접 프린트',self.master.getvar(name='idvalue1'))\n",
        "\n",
        "        # idvalue.trace_add('write', self.valueChanged)\n",
        "        # work arround\n",
        "        idvalue.trace_add('write', lambda *args:self.__valueChanged(idvalue,*args))\n",
        "\n",
        "        Entry(self.master, textvariable = idvalue).pack(padx = 5, pady = 5)\n",
        "\n",
        "    def __valueChanged(self, variable, var, index, mode):\n",
        "        # 다 지울때 error 난다.\n",
        "        try:\n",
        "            print(variable.get() )\n",
        "        except:\n",
        "            pass\n",
        "\n",
        "gg = A()\n",
        "\n",
        "gg.master.mainloop()\n"
      ]
    }
  ],
  "metadata": {
    "colab": {
      "collapsed_sections": [],
      "name": "Tkinter var tracing.ipynb",
      "provenance": []
    },
    "kernelspec": {
      "display_name": "Python 3.10.2 64-bit",
      "language": "python",
      "name": "python3"
    },
    "language_info": {
      "codemirror_mode": {
        "name": "ipython",
        "version": 3
      },
      "file_extension": ".py",
      "mimetype": "text/x-python",
      "name": "python",
      "nbconvert_exporter": "python",
      "pygments_lexer": "ipython3",
      "version": "3.10.2"
    },
    "vscode": {
      "interpreter": {
        "hash": "369f2c481f4da34e4445cda3fffd2e751bd1c4d706f27375911949ba6bb62e1c"
      }
    }
  },
  "nbformat": 4,
  "nbformat_minor": 0
}
