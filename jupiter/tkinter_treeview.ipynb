{
 "cells": [
  {
   "cell_type": "code",
   "execution_count": null,
   "metadata": {},
   "outputs": [],
   "source": [
    "from tkinter import *\n",
    "\n",
    "def single(event):\n",
    "   print('single click')\n",
    "\n",
    "def double(event):       \n",
    "   print('double click')\n",
    "\n",
    "widget = Button(None, text='Hello event world')\n",
    "widget.pack()\n",
    "# widget.bind('<Button-1>', single)\n",
    "widget.bind('<Double-1>', double)\n",
    "widget.mainloop()"
   ]
  },
  {
   "cell_type": "markdown",
   "metadata": {},
   "source": [
    "### tkinter treeview"
   ]
  },
  {
   "cell_type": "code",
   "execution_count": 5,
   "metadata": {},
   "outputs": [],
   "source": [
    "import tkinter\n",
    "import tkinter.ttk\n",
    "\n",
    "window=tkinter.Tk()\n",
    "# window.geometry(\"640x400\")\n",
    "window.resizable(1,1)\n",
    "\n",
    "# treeview=tkinter.ttk.Treeview(window, columns=[\"one\", \"two\"], displaycolumns=[\"two\", \"one\"])\n",
    "\n",
    "data1=[\"one\", \"two\", \"three\"]\n",
    "treeview=tkinter.ttk.Treeview(window, columns=data1, displaycolumns=data1)\n",
    "treeview.pack()\n",
    "\n",
    "treeview.column(\"one\", width=50, anchor=\"center\")\n",
    "treeview.heading(\"one\", text=\"문자\", anchor=\"e\")\n",
    "\n",
    "treeview.column(\"two\", width=100, anchor=\"w\")\n",
    "treeview.heading(\"two\", text=\"ASCII\", anchor=\"center\")\n",
    "\n",
    "treeview.column(\"three\", width=100, anchor=\"w\")\n",
    "treeview.heading(\"three\", text=\"xx\", anchor=\"center\")\n",
    "\n",
    "data2=[(1,2,3),(4,5,6)]\n",
    "\n",
    "for idx,val in enumerate(data2):\n",
    "    treeview.insert('','end',text='?',values=val,iid=idx)\n",
    "\n",
    "treeview['show']='headings'\n",
    "window.mainloop()"
   ]
  }
 ],
 "metadata": {
  "kernelspec": {
   "display_name": "Python 3.10.2 ('_venv': venv)",
   "language": "python",
   "name": "python3"
  },
  "language_info": {
   "codemirror_mode": {
    "name": "ipython",
    "version": 3
   },
   "file_extension": ".py",
   "mimetype": "text/x-python",
   "name": "python",
   "nbconvert_exporter": "python",
   "pygments_lexer": "ipython3",
   "version": "3.10.2"
  },
  "orig_nbformat": 4,
  "vscode": {
   "interpreter": {
    "hash": "85a5ea10e8d90634b53ecfa6b33e2101cc6e01e1e8ad7fba73ed982dd81d5947"
   }
  }
 },
 "nbformat": 4,
 "nbformat_minor": 2
}
