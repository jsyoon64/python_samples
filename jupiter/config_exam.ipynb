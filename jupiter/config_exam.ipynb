{
 "cells": [
  {
   "cell_type": "markdown",
   "metadata": {},
   "source": [
    "Config file Read Write"
   ]
  },
  {
   "cell_type": "code",
   "execution_count": null,
   "metadata": {},
   "outputs": [],
   "source": [
    "import configparser\n",
    "import os\n",
    "\n",
    "class Config:\n",
    "    def __init__(self):\n",
    "        self.setting = configparser.ConfigParser()\n",
    "        self.config_file_name = 'config.ini'\n",
    "        if os.path.isfile(self.config_file_name):\n",
    "            self.setting.read(self.config_file_name)\n",
    "            print('read config')    \n",
    "        else:\n",
    "            self.createConfigFile()\n",
    "            self.write()\n",
    "\n",
    "    def write(self):\n",
    "        with open(self.config_file_name, 'w') as fd:\n",
    "            self.setting.write(fd)     \n",
    "            print('config saved')    \n",
    "\n",
    "    def createConfigFile(self):\n",
    "        self.setting['SETTING'] = {\n",
    "            'device'        : 'B-1',    # Device 이름\n",
    "            'buffer_len'    : '60',     # 감지버퍼\n",
    "        }\n",
    "        self.setting['SOUND'] ={        \n",
    "            'vol'           : '1',      # 볼륨크기\n",
    "            'mode'          : '0',      #\n",
    "        }        \n",
    "\n",
    "    @property\n",
    "    def devicename(self):\n",
    "        return self.setting.get('SETTING','device', fallback='DEVICE_01')\n",
    "\n",
    "    @devicename.setter\n",
    "    def devicename(self, device):\n",
    "        self.setting['SETTING']['device'] = device\n",
    "\n",
    "    @property\n",
    "    def buffer_len(self):\n",
    "        return int(self.setting.get('SETTING', 'buffer_len'))\n",
    "    \n",
    "    @buffer_len.setter\n",
    "    def buffer_len(self, buffer_len):\n",
    "        self.setting['SETTING']['buffer_len'] = buffer_len\n",
    "\n",
    "    @property\n",
    "    def vol(self):\n",
    "        return float(self.setting.get('SOUND', 'vol'))\n",
    "    \n",
    "    @vol.setter\n",
    "    def vol(self, vol):\n",
    "        self.setting['SOUND']['vol']=str(vol)\n",
    "\n",
    "    @property\n",
    "    def mode(self):\n",
    "        return int(self.setting.get('SOUND', 'mode'))\n",
    "    \n",
    "    @mode.setter\n",
    "    def mode(self, mode):\n",
    "        self.setting['SOUND']['mode']=str(mode)\n",
    "\n",
    "if __name__ == \"__main__\":\n",
    "    config = Config()"
   ]
  }
 ],
 "metadata": {
  "kernelspec": {
   "display_name": "Python 3",
   "language": "python",
   "name": "python3"
  },
  "language_info": {
   "name": "python",
   "version": "3.9.1"
  },
  "orig_nbformat": 4
 },
 "nbformat": 4,
 "nbformat_minor": 2
}
