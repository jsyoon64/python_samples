{
 "cells": [
  {
   "cell_type": "markdown",
   "id": "3b81b2c5",
   "metadata": {},
   "source": [
    "## httpbin.org file upload"
   ]
  },
  {
   "cell_type": "code",
   "execution_count": 31,
   "id": "75b3e7e0",
   "metadata": {},
   "outputs": [
    {
     "name": "stdout",
     "output_type": "stream",
     "text": [
      "b'HTTP/1.0 200 OK\\r\\nServer: BaseHTTP/0.6 Python/3.10.2\\r\\nDate: Wed, 23 Feb 2022 06:13:31 GMT\\r\\nContent-type: text/html\\r\\n\\r\\n'\n",
      "length is 130\n"
     ]
    }
   ],
   "source": [
    "import socket\n",
    "\n",
    "target_host = \"192.168.0.62\" \n",
    "target_port = 8080  # create a socket object \n",
    "\n",
    "client = socket.socket(socket.AF_INET, socket.SOCK_STREAM)  \n",
    " \n",
    "# connect the client \n",
    "client.connect((target_host,target_port))  \n",
    "boundary = \"192168062jsyoonsnkrnd\"\n",
    "\n",
    "dataheader = \"--%s\\r\\nContent-Type: application/octet-stream\\r\\nContent-Disposition: form-data; name=\\\"file\\\"; filename=\\\"aa.wav\\\"\\r\\nContent-Transfer-Encoding: 8bit\\r\\n\\r\\n\"% boundary\n",
    "data=\"1234567890abcdefghijklmnopqrstuvwxyz\"\n",
    "datafooter = \"\\r\\n--%s--\\r\\n\"%boundary\n",
    "\n",
    "con_len = len(dataheader+data+datafooter)\n",
    "\n",
    "request = \"POST / HTTP/1.1\\r\\nUser-Agent: snk\\r\\nAccept: */*\\r\\nConnection: Close\\r\\nContent-Length: %d\\r\\nContent-Type: multipart/form-data; boundary=%s\\r\\n\\r\\n\" % (con_len,boundary)\n",
    "#request = \"POST / HTTP/1.1\\r\\nUser-Agent: snk\\r\\nAccept: */*\\r\\nConnection: Close\\r\\n\\r\\n\" %target_URI\n",
    "\n",
    "postreqdata = request+dataheader+data+datafooter\n",
    "\n",
    "client.send(postreqdata.encode())  \n",
    "# receive some data \n",
    "response = client.recv(4096)  \n",
    "http_response = repr(response)\n",
    "http_response_len = len(http_response)\n",
    "print(http_response)\n",
    "print('length is',http_response_len)"
   ]
  },
  {
   "cell_type": "code",
   "execution_count": 40,
   "id": "1bf2adb9",
   "metadata": {},
   "outputs": [
    {
     "data": {
      "text/plain": [
       "'<!DOCTYPE HTML PUBLIC \"-//W3C//DTD HTML 4.01//EN\" \"http://www.w3.org/TR/html4/strict.dtd\">\\n<html>\\n<head>\\n<meta http-equiv=\"Content-Type\" content=\"text/html; charset=utf-8\">\\n<title>Directory listing for /</title>\\n</head>\\n<body>\\n<h1>Directory listing for /</h1>\\n<hr>\\n<ul>\\n<li><a href=\"server.py\">server.py</a></li>\\n<li><a href=\"server1.py\">server1.py</a></li>\\n</ul>\\n<hr>\\n</body>\\n</html>\\n'"
      ]
     },
     "execution_count": 40,
     "metadata": {},
     "output_type": "execute_result"
    }
   ],
   "source": [
    "import requests\n",
    "url = 'http://192.168.0.62:8080/'\n",
    "#url = 'http://192.168.0.62:8000/'\n",
    "#url = 'https://httpbin.org/post'\n",
    "response = requests.get(url)\n",
    "response.text"
   ]
  },
  {
   "cell_type": "code",
   "execution_count": 22,
   "id": "4ae1094b",
   "metadata": {},
   "outputs": [
    {
     "ename": "FileNotFoundError",
     "evalue": "[Errno 2] No such file or directory: 'testtext.bin'",
     "output_type": "error",
     "traceback": [
      "\u001b[1;31m---------------------------------------------------------------------------\u001b[0m",
      "\u001b[1;31mFileNotFoundError\u001b[0m                         Traceback (most recent call last)",
      "Input \u001b[1;32mIn [22]\u001b[0m, in \u001b[0;36m<module>\u001b[1;34m\u001b[0m\n\u001b[0;32m      3\u001b[0m \u001b[38;5;66;03m#url = 'http://192.168.0.62:8080/'\u001b[39;00m\n\u001b[0;32m      4\u001b[0m url \u001b[38;5;241m=\u001b[39m \u001b[38;5;124m'\u001b[39m\u001b[38;5;124mhttps://httpbin.org/post\u001b[39m\u001b[38;5;124m'\u001b[39m\n\u001b[1;32m----> 5\u001b[0m files \u001b[38;5;241m=\u001b[39m {\u001b[38;5;124m'\u001b[39m\u001b[38;5;124mfile\u001b[39m\u001b[38;5;124m'\u001b[39m: \u001b[38;5;28;43mopen\u001b[39;49m\u001b[43m(\u001b[49m\u001b[38;5;124;43m'\u001b[39;49m\u001b[38;5;124;43mtesttext.bin\u001b[39;49m\u001b[38;5;124;43m'\u001b[39;49m\u001b[43m,\u001b[49m\u001b[43m \u001b[49m\u001b[38;5;124;43m'\u001b[39;49m\u001b[38;5;124;43mrb\u001b[39;49m\u001b[38;5;124;43m'\u001b[39;49m\u001b[43m)\u001b[49m}\n\u001b[0;32m      6\u001b[0m r \u001b[38;5;241m=\u001b[39m requests\u001b[38;5;241m.\u001b[39mpost(url, files\u001b[38;5;241m=\u001b[39mfiles)\n\u001b[0;32m      7\u001b[0m \u001b[38;5;28mprint\u001b[39m(\u001b[38;5;124m'\u001b[39m\u001b[38;5;124mheaders:\u001b[39m\u001b[38;5;124m'\u001b[39m,r\u001b[38;5;241m.\u001b[39mheaders)\n",
      "\u001b[1;31mFileNotFoundError\u001b[0m: [Errno 2] No such file or directory: 'testtext.bin'"
     ]
    }
   ],
   "source": [
    "import requests\n",
    "\n",
    "url = 'http://192.168.0.62:8080/'\n",
    "#url = 'https://httpbin.org/post'\n",
    "files = {'file': open('testtext.bin', 'rb')}\n",
    "r = requests.post(url, files=files)\n",
    "print('headers:',r.headers)\n",
    "print('resp:',r.text)"
   ]
  }
 ],
 "metadata": {
  "kernelspec": {
   "display_name": "Python 3 (ipykernel)",
   "language": "python",
   "name": "python3"
  },
  "language_info": {
   "codemirror_mode": {
    "name": "ipython",
    "version": 3
   },
   "file_extension": ".py",
   "mimetype": "text/x-python",
   "name": "python",
   "nbconvert_exporter": "python",
   "pygments_lexer": "ipython3",
   "version": "3.10.2"
  }
 },
 "nbformat": 4,
 "nbformat_minor": 5
}
