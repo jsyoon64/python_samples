{
 "cells": [
  {
   "cell_type": "code",
   "execution_count": 20,
   "metadata": {},
   "outputs": [
    {
     "name": "stdout",
     "output_type": "stream",
     "text": [
      "devicelists(fulllists=[(1, 2, 3, 4, 5), (1, 2, 3, 4, 5)], lastlist=[1, 2, 3, 4, 5])\n"
     ]
    }
   ],
   "source": [
    "from dataclasses import dataclass, field\n",
    "\n",
    "@dataclass\n",
    "class devicelists:\n",
    "    fulllists:list = field(default_factory=list)\n",
    "    lastlist:list = field(default_factory=list)\n",
    "\n",
    "    def add(self,list1):\n",
    "        self.lastlist=list1.copy()\n",
    "        self.fulllists.append(tuple(self.lastlist))\n",
    "\n",
    "\n",
    "bb=[1,2,3,4,5]\n",
    "aa=devicelists()\n",
    "aa.add(bb)\n",
    "aa.add(bb)\n",
    "print (aa)"
   ]
  },
  {
   "cell_type": "code",
   "execution_count": 35,
   "metadata": {},
   "outputs": [
    {
     "name": "stdout",
     "output_type": "stream",
     "text": [
      "[(1, 2, 3, 4, 5), (1, 2, 3, 4, 5), (1, 2, 3, 4, 5)]\n",
      "[1, 2, 3, 4, 5]\n"
     ]
    }
   ],
   "source": [
    "class devicelists:\n",
    "    fulllists = list(tuple())\n",
    "    lastlist = list()\n",
    "\n",
    "    def add(self,list1):\n",
    "        self.lastlist=list1.copy()\n",
    "        self.fulllists.append(tuple(list1))\n",
    "        if len(self.fulllists) > 3 :\n",
    "            del self.fulllists[0]\n",
    "\n",
    "bb=[1,2,3,4,5]\n",
    "aa = devicelists()\n",
    "\n",
    "for _ in range(20):\n",
    "    aa.add(bb)\n",
    "\n",
    "print(aa.fulllists)\n",
    "print(aa.lastlist)"
   ]
  },
  {
   "cell_type": "code",
   "execution_count": 4,
   "metadata": {},
   "outputs": [
    {
     "name": "stdout",
     "output_type": "stream",
     "text": [
      "0\n",
      "c1= Container(a=basedata(v=0, s=0), b=0)\n",
      "c2= Container(a=basedata(v=0, s=0), b=0)\n",
      "1\n",
      "c1= Container(a=basedata(v=99.1, s=0), b=-90)\n",
      "c2= Container(a=basedata(v=99.1, s=0), b=0)\n"
     ]
    }
   ],
   "source": [
    "from dataclasses import dataclass, field\n",
    "\n",
    "@dataclass\n",
    "class basedata:\n",
    "    v: float  # value\n",
    "    s: float  # scale factor\n",
    "    \n",
    "    def scaled_value(self):\n",
    "        return self.v*self.s\n",
    "\n",
    "@dataclass\n",
    "class Container:\n",
    "    a: basedata = basedata(0, 0)\n",
    "    b: float = 0\n",
    "\n",
    "c1 = Container()\n",
    "c2 = Container()\n",
    "\n",
    "print('0')\n",
    "print('c1=',c1)\n",
    "print('c2=',c2)\n",
    "\n",
    "c1.a.v=99.1\n",
    "c1.b=-90\n",
    "print('1')\n",
    "print('c1=',c1)\n",
    "print('c2=',c2)\n"
   ]
  }
 ],
 "metadata": {
  "kernelspec": {
   "display_name": "Python 3.7.2 32-bit",
   "language": "python",
   "name": "python3"
  },
  "language_info": {
   "codemirror_mode": {
    "name": "ipython",
    "version": 3
   },
   "file_extension": ".py",
   "mimetype": "text/x-python",
   "name": "python",
   "nbconvert_exporter": "python",
   "pygments_lexer": "ipython3",
   "version": "3.7.2"
  },
  "orig_nbformat": 4,
  "vscode": {
   "interpreter": {
    "hash": "9e1ba758841a905c8041a0f1f2ad094892d112b5778f2e1c89c4c9a1e17378e6"
   }
  }
 },
 "nbformat": 4,
 "nbformat_minor": 2
}
