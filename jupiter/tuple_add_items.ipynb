{
 "cells": [
  {
   "cell_type": "markdown",
   "metadata": {},
   "source": [
    "### Python add item to the tuple"
   ]
  },
  {
   "cell_type": "code",
   "execution_count": 1,
   "metadata": {},
   "outputs": [
    {
     "name": "stdout",
     "output_type": "stream",
     "text": [
      "('2', 'z')\n",
      "('1', '2', '3', 'z')\n",
      "('1', '2', '3', 'z')\n"
     ]
    }
   ],
   "source": [
    "a = ('2',)\n",
    "b = 'z'\n",
    "new1 = a + (b,)\n",
    "print(new1)\n",
    "\n",
    "a = ('1','2','3')\n",
    "new2 = (*a,b)\n",
    "print(new2)\n",
    "\n",
    "l=list(a)\n",
    "l.append(b)\n",
    "new3=tuple(l)\n",
    "print(new3)"
   ]
  }
 ],
 "metadata": {
  "kernelspec": {
   "display_name": "Python 3.10.2 ('_venv': venv)",
   "language": "python",
   "name": "python3"
  },
  "language_info": {
   "codemirror_mode": {
    "name": "ipython",
    "version": 3
   },
   "file_extension": ".py",
   "mimetype": "text/x-python",
   "name": "python",
   "nbconvert_exporter": "python",
   "pygments_lexer": "ipython3",
   "version": "3.10.2"
  },
  "orig_nbformat": 4,
  "vscode": {
   "interpreter": {
    "hash": "85a5ea10e8d90634b53ecfa6b33e2101cc6e01e1e8ad7fba73ed982dd81d5947"
   }
  }
 },
 "nbformat": 4,
 "nbformat_minor": 2
}
