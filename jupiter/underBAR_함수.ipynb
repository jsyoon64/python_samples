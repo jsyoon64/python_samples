{
  "nbformat": 4,
  "nbformat_minor": 0,
  "metadata": {
    "colab": {
      "name": "underBAR_함수.ipynb",
      "provenance": [],
      "collapsed_sections": []
    },
    "kernelspec": {
      "name": "python3",
      "display_name": "Python 3"
    },
    "language_info": {
      "name": "python"
    }
  },
  "cells": [
    {
      "cell_type": "markdown",
      "source": [
        "# __ xx __\n",
        "__ iadd __, __ add __\n",
        "__ isub __, __ sub __\n",
        "__ call __, __ str __\n",
        "__ repr __ 등등"
      ],
      "metadata": {
        "id": "u4vmVBR9o_Gb"
      }
    },
    {
      "cell_type": "code",
      "execution_count": null,
      "metadata": {
        "colab": {
          "base_uri": "https://localhost:8080/"
        },
        "id": "QlDEik88onoa",
        "outputId": "fb2f3a8e-0c74-42ca-e70d-665e32bf1c6e"
      },
      "outputs": [
        {
          "output_type": "stream",
          "name": "stdout",
          "text": [
            "ex1 after +\n",
            "ex2 after +\n",
            "ex1,ex2\n",
            "ex1 after -\n",
            "ex1\n"
          ]
        }
      ],
      "source": [
        "class MyEvtHandler(object):\n",
        "\tdef __init__(self):\n",
        "\t\tself.__eventhandlersample = []\n",
        "\t\n",
        "\tdef __iadd__(self, Ehandler): \n",
        "\t\tself.__eventhandlersample.append(Ehandler) \n",
        "\t\treturn self\n",
        "\n",
        "\tdef __isub__(self, Ehandler): \n",
        "\t\tself.__eventhandlersample.remove(Ehandler) \n",
        "\t\treturn self\n",
        "\n",
        "\tdef __call__(self, *args, **keywargs): \n",
        "\t\tfor eventhandlersample in self.__eventhandlersample: \n",
        "\t\t\teventhandlersample(*args, **keywargs)                 \n",
        "\n",
        "\tdef __repr__(self):\n",
        "\t\t#return \",\".join( map(lambda x :str(x.__name__), self.__eventhandlersample) )\n",
        "\t\treturn \",\".join( map(lambda x :str(x.__qualname__), self.__eventhandlersample) )\n",
        "\n",
        "if __name__ == \"__main__\":\n",
        "\n",
        "\tdef ex1(asd):\n",
        "\t\tprint(\"ex1\",asd)\n",
        "\n",
        "\tdef ex2(asd):\n",
        "\t\tprint(\"ex2\",asd)\n",
        "\n",
        "\tex1handler = MyEvtHandler()\n",
        "\tex1handler += ex1\n",
        "\tex1handler += ex2\n",
        "\n",
        "\tex1handler('after +')\n",
        "\tprint(ex1handler)\n",
        " \n",
        "\n",
        "\tex1handler -= ex2\n",
        "\tex1handler('after -')\n",
        "\tprint(ex1handler)\n",
        "\n",
        "\n"
      ]
    }
  ]
}