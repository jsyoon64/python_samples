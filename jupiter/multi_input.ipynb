{
  "cells": [
    {
      "cell_type": "markdown",
      "metadata": {},
      "source": [
        "입력받은 값을 스페이스로 기준으로 분리    \n",
        "또는 .split(',')) # 입력받은 값을 콤마를 기준으로 분리"
      ]
    },
    {
      "cell_type": "code",
      "execution_count": null,
      "metadata": {
        "colab": {
          "base_uri": "https://localhost:8080/"
        },
        "id": "vPmQA6iltAQJ",
        "outputId": "1b605e9c-badb-431a-d70b-b8efd06dd897"
      },
      "outputs": [
        {
          "name": "stdout",
          "output_type": "stream",
          "text": [
            "숫자 두 개를 입력하세요: 2 3\n",
            "2 3\n"
          ]
        }
      ],
      "source": [
        "a , b  = input('숫자 두 개를 입력하세요: ').split() #입력받은 값을 스페이스로 기준으로 분리\n",
        "#a, b = map(int, input('숫자 두 개를 입력하세요: ').split(',')) # 입력받은 값을 콤마를 기준으로 분리\n",
        "print(a,b)"
      ]
    },
    {
      "cell_type": "markdown",
      "metadata": {
        "id": "5jOKiEJZtvqY"
      },
      "source": [
        "Default Value on Input with Multiple Inputs on Same Line  \n",
        "예로 1 2 3 입력"
      ]
    },
    {
      "cell_type": "code",
      "execution_count": 4,
      "metadata": {
        "colab": {
          "base_uri": "https://localhost:8080/"
        },
        "id": "QdTlh9SWtuw1",
        "outputId": "5154f236-3a05-42bc-8438-998697b19d74"
      },
      "outputs": [
        {
          "name": "stdout",
          "output_type": "stream",
          "text": [
            "1 2 2\n"
          ]
        }
      ],
      "source": [
        "test1, *test2 = input('Enter 1 or 2 variables: ').split()\n",
        "test_n = test2[0] if test2 else 'default'\n",
        "print(test1,test_n, len(test2))"
      ]
    }
  ],
  "metadata": {
    "colab": {
      "collapsed_sections": [],
      "name": "multi input.ipynb",
      "provenance": []
    },
    "kernelspec": {
      "display_name": "Python 3.10.2 64-bit",
      "language": "python",
      "name": "python3"
    },
    "language_info": {
      "codemirror_mode": {
        "name": "ipython",
        "version": 3
      },
      "file_extension": ".py",
      "mimetype": "text/x-python",
      "name": "python",
      "nbconvert_exporter": "python",
      "pygments_lexer": "ipython3",
      "version": "3.10.2"
    },
    "vscode": {
      "interpreter": {
        "hash": "369f2c481f4da34e4445cda3fffd2e751bd1c4d706f27375911949ba6bb62e1c"
      }
    }
  },
  "nbformat": 4,
  "nbformat_minor": 0
}
