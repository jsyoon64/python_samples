{
 "cells": [
  {
   "cell_type": "markdown",
   "metadata": {},
   "source": [
    "### 고정된 buffer로 ring buffer 구현"
   ]
  },
  {
   "cell_type": "code",
   "execution_count": 1,
   "metadata": {},
   "outputs": [
    {
     "name": "stdout",
     "output_type": "stream",
     "text": [
      "<class '__main__.ringbuffer'> [1, 2, 3, 4]\n",
      "<class '__main__.ringbuffer.__Full'> [1, 2, 3, 4, 5]\n",
      "[6, 2, 3, 4, 5] [2, 3, 4, 5, 6]\n",
      "[6, 7, 8, 9, 10] [6, 7, 8, 9, 10]\n"
     ]
    }
   ],
   "source": [
    "class ringbuffer:\n",
    "    def __init__(self, size_max):\n",
    "        self.max = size_max\n",
    "        self.data = []\n",
    "\n",
    "    \"\"\" class that implements a full buffer \"\"\"\n",
    "    class __Full:\n",
    "        def append(self, x):\n",
    "            \"\"\" Append an element overwriting the oldest one. \"\"\"\n",
    "            self.data[self.cur] = x\n",
    "            self.cur = (self.cur+1) % self.max\n",
    "        def get(self):\n",
    "            \"\"\" return list of elements in correct order \"\"\"\n",
    "            return self.data[self.cur:]+self.data[:self.cur]\n",
    "\n",
    "    def append(self,x):\n",
    "        \"\"\"append an element at the end of the buffer\"\"\"\n",
    "        self.data.append(x)\n",
    "        if len(self.data) == self.max:\n",
    "            self.cur = 0\n",
    "            # Permanently change self's class from non-full to full\n",
    "            self.__class__ = self.__Full\n",
    "\n",
    "    def get(self):\n",
    "        \"\"\" Return a list of elements from the oldest to the newest. \"\"\"\n",
    "        return self.data\n",
    "    \n",
    "# sample usage\n",
    "if __name__=='__main__':\n",
    "    x=ringbuffer(5)\n",
    "    x.append(1); x.append(2); x.append(3); x.append(4)\n",
    "    print(x.__class__, x.get())\n",
    "    x.append(5)\n",
    "    print(x.__class__, x.get())\n",
    "    x.append(6)\n",
    "    print(x.data, x.get())\n",
    "    x.append(7); x.append(8); x.append(9); x.append(10)\n",
    "    print(x.data, x.get())"
   ]
  },
  {
   "cell_type": "markdown",
   "metadata": {},
   "source": [
    "## 또다른"
   ]
  },
  {
   "cell_type": "code",
   "execution_count": 4,
   "metadata": {},
   "outputs": [
    {
     "name": "stdout",
     "output_type": "stream",
     "text": [
      "<class '__main__.ringbuffer'> [1, 2, 3, 4]\n",
      "<class '__main__.ringbuffer.__Full'> [1, 2, 3, 4, 5]\n",
      "[2, 3, 4, 5, 6] [2, 3, 4, 5, 6]\n",
      "[6, 7, 8, 9, 10] [6, 7, 8, 9, 10]\n",
      "Latest = 10, Oldest = 6\n"
     ]
    }
   ],
   "source": [
    "class ringbuffer:\n",
    "    def __init__(self, size_max):\n",
    "        self.max = size_max\n",
    "        self.data = []\n",
    "\n",
    "    \"\"\" class that implements a full buffer \"\"\"\n",
    "    class __Full:\n",
    "        def append(self, x):\n",
    "            \"\"\" Append an element overwriting the oldest one. \"\"\"\n",
    "            self.data.pop(0)\n",
    "            self.data.append(x)\n",
    "        def get(self):\n",
    "            \"\"\" return list of elements in correct order \"\"\"\n",
    "            return self.data\n",
    "\n",
    "    def append(self,x):\n",
    "        \"\"\"append an element at the end of the buffer\"\"\"\n",
    "        self.data.append(x)\n",
    "        if len(self.data) == self.max:\n",
    "            # Permanently change self's class from non-full to full\n",
    "            self.__class__ = self.__Full\n",
    "\n",
    "    def get(self):\n",
    "        \"\"\" Return a list of elements from the oldest to the newest. \"\"\"\n",
    "        return self.data\n",
    "    \n",
    "# sample usage\n",
    "if __name__=='__main__':\n",
    "    x=ringbuffer(5)\n",
    "    x.append(1); x.append(2); x.append(3); x.append(4)\n",
    "    print(x.__class__, x.get())\n",
    "    x.append(5)\n",
    "    print(x.__class__, x.get())\n",
    "    x.append(6)\n",
    "    print(x.data, x.get())\n",
    "    x.append(7); x.append(8); x.append(9); x.append(10)\n",
    "    print(x.data, x.get())\n",
    "\n",
    "    print(f'Latest = {x.get()[-1]}, Oldest = {x.get()[0]}')"
   ]
  }
 ],
 "metadata": {
  "kernelspec": {
   "display_name": "Python 3",
   "language": "python",
   "name": "python3"
  },
  "language_info": {
   "codemirror_mode": {
    "name": "ipython",
    "version": 3
   },
   "file_extension": ".py",
   "mimetype": "text/x-python",
   "name": "python",
   "nbconvert_exporter": "python",
   "pygments_lexer": "ipython3",
   "version": "3.9.1"
  },
  "orig_nbformat": 4
 },
 "nbformat": 4,
 "nbformat_minor": 2
}
