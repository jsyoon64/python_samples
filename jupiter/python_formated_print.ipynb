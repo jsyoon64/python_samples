{
  "cells": [
    {
      "cell_type": "markdown",
      "metadata": {
        "id": "qFJAvoLIqv_o"
      },
      "source": [
        "# int to hexa string print"
      ]
    },
    {
      "cell_type": "code",
      "execution_count": null,
      "metadata": {
        "colab": {
          "base_uri": "https://localhost:8080/"
        },
        "id": "u5UDfJGYOajr",
        "outputId": "45d440d6-4e50-4808-db02-4712b04913c8"
      },
      "outputs": [
        {
          "name": "stdout",
          "output_type": "stream",
          "text": [
            "RX:0x0017\n",
            "RX:0x0017\n",
            "RX:0x0017, 0x0019\n",
            "0.33\n",
            "0.3333\n",
            "FF, 377, 11111111\n",
            "That is 1 general code!\n"
          ]
        }
      ],
      "source": [
        "status = 23\n",
        "field = 25\n",
        "print('RX:0x{:04X}'.format(status))\n",
        "print('RX:0x{0:04X}'.format(status))\n",
        "print('RX:0x{0:04X}, 0x{1:04X}'.format(status, field))\n",
        "\n",
        "print( '{0:.2f}'.format(1 / 3.0) )     # Parameters hardcoded \n",
        "print( '{0:.{1}f}'.format(1 / 3.0, 4) )# Take value from arguments \n",
        "\n",
        "print( '{0:X}, {1:o}, {2:b}'.format(255, 255, 255) )      # Hex, octal, binary\n",
        "\n",
        "print( 'That is {0} {1} code!'.format(1, 'general') )  "
      ]
    },
    {
      "cell_type": "markdown",
      "metadata": {
        "id": "VIT_INtDq-0n"
      },
      "source": [
        "# f string dictionary print"
      ]
    },
    {
      "cell_type": "code",
      "execution_count": 4,
      "metadata": {
        "colab": {
          "base_uri": "https://localhost:8080/"
        },
        "id": "Ods4WG4ErKnD",
        "outputId": "e6f7b947-d3c6-4e94-f0d8-ff89a845a91e"
      },
      "outputs": [
        {
          "name": "stdout",
          "output_type": "stream",
          "text": [
            "{\"KEY1\":1}\n",
            "\"KEY1\":1\n",
            "{aa}\n",
            "{\"authentication\":ON,\"devieid\":+1,\"siteid\":+9,\"group\":1}\n"
          ]
        }
      ],
      "source": [
        "aa = dict()\n",
        "aa['RESP'] = '\"KEY1\":1'\n",
        "\n",
        "# {} 포함 프린트\n",
        "print( f'{{{aa[\"RESP\"]}}}')\n",
        "\n",
        "# 내용만 프린트\n",
        "print( f'{aa[\"RESP\"]}')\n",
        "\n",
        "aaaaa=f'{{{\"aa\"}}}'\n",
        "print (aaaaa)\n",
        "\n",
        "onoff=\"ON\"\n",
        "devid =1\n",
        "siteid=9\n",
        "groupval=1\n",
        "tdata = f'{{\"authentication\":{onoff},\"devieid\":+{str(devid)},\"siteid\":+{str(siteid)},\"group\":{str(groupval)}}}'\n",
        "print(tdata)\n"
      ]
    },
    {
      "cell_type": "markdown",
      "metadata": {
        "id": "FI6LbmQabVhf"
      },
      "source": [
        "# f- string 글자 정렬 표현방법\n",
        "\n",
        "예를들어, 글자 수 10개일 때\n",
        "\n",
        "왼쪽 정렬:{문자:10s}\n",
        "가운데 정렬:{정수:^10d}\n",
        "오른쪽 정렬:{실수:>10f}"
      ]
    },
    {
      "cell_type": "code",
      "execution_count": null,
      "metadata": {
        "colab": {
          "base_uri": "https://localhost:8080/"
        },
        "id": "KbAE3hjHbraP",
        "outputId": "85f11b93-9349-4561-f99b-389c0332d9e7"
      },
      "outputs": [
        {
          "name": "stdout",
          "output_type": "stream",
          "text": [
            "보라        의 나이는     15    세 이다.\n",
            "영희        의 나이는     20    세 이다.\n",
            "철수        의 나이는     49    세 이다.\n",
            "         1 x 2 = 2 입니다.\n",
            "         3 x 2 = 6 입니다.\n",
            "         5 x 2 = 10 입니다.\n",
            "         7 x 2 = 14 입니다.\n",
            "         9 x 2 = 18 입니다.\n"
          ]
        }
      ],
      "source": [
        "names = ['보라', '영희', '철수']\n",
        "nums = [15, 20, 49]\n",
        "for name, age in zip(names, nums) :\n",
        "  print(f'{name:10s}의 나이는 {age:^10d}세 이다.') # 왼쪽정렬, 가운데정렬\n",
        "\n",
        "\n",
        "for x in range(1,10,2):\n",
        "  print(f'{x:>10d} x 2 = {x*2} 입니다.') # 오른쪽정렬, 기본"
      ]
    },
    {
      "cell_type": "markdown",
      "metadata": {
        "id": "mvBUxhszMemV"
      },
      "source": [
        "# 소수점 자리수"
      ]
    },
    {
      "cell_type": "code",
      "execution_count": null,
      "metadata": {
        "colab": {
          "base_uri": "https://localhost:8080/"
        },
        "id": "GFS2ulpcMiC9",
        "outputId": "94a0e81f-6323-4006-c28e-ec8b4372372c"
      },
      "outputs": [
        {
          "name": "stdout",
          "output_type": "stream",
          "text": [
            "2.34\n"
          ]
        }
      ],
      "source": [
        "number = 2.341\n",
        "print(f'{number:.2f}')"
      ]
    },
    {
      "cell_type": "code",
      "execution_count": null,
      "metadata": {},
      "outputs": [],
      "source": []
    },
    {
      "cell_type": "markdown",
      "metadata": {},
      "source": [
        "# HEXA Value"
      ]
    },
    {
      "cell_type": "code",
      "execution_count": 2,
      "metadata": {},
      "outputs": [
        {
          "name": "stdout",
          "output_type": "stream",
          "text": [
            "0064\n",
            "0064\n"
          ]
        }
      ],
      "source": [
        "number = 100\n",
        "print(f'{number:04x}')\n",
        "print(f'{number:04X}')"
      ]
    }
  ],
  "metadata": {
    "colab": {
      "collapsed_sections": [],
      "name": "python formated print.ipynb",
      "provenance": []
    },
    "kernelspec": {
      "display_name": "Python 3.10.2 ('_venv': venv)",
      "language": "python",
      "name": "python3"
    },
    "language_info": {
      "codemirror_mode": {
        "name": "ipython",
        "version": 3
      },
      "file_extension": ".py",
      "mimetype": "text/x-python",
      "name": "python",
      "nbconvert_exporter": "python",
      "pygments_lexer": "ipython3",
      "version": "3.10.2"
    },
    "vscode": {
      "interpreter": {
        "hash": "85a5ea10e8d90634b53ecfa6b33e2101cc6e01e1e8ad7fba73ed982dd81d5947"
      }
    }
  },
  "nbformat": 4,
  "nbformat_minor": 0
}
