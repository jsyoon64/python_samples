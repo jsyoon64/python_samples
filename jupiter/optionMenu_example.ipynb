{
 "cells": [
  {
   "cell_type": "markdown",
   "metadata": {},
   "source": [
    "**command 함수 사용**"
   ]
  },
  {
   "cell_type": "code",
   "execution_count": 11,
   "metadata": {},
   "outputs": [],
   "source": [
    "import tkinter as tk\n",
    "\n",
    "OptionList = [\n",
    "\"Aries\",\n",
    "\"Taurus\",\n",
    "\"Gemini\"\n",
    "] \n",
    "\n",
    "def callback(choice):\n",
    "    labelTest.configure(text=f\"The selected item is {choice}\")\n",
    "\n",
    "app = tk.Tk()\n",
    "\n",
    "app.geometry('300x200')\n",
    "\n",
    "variable = tk.StringVar(app)\n",
    "variable.set(OptionList[0])\n",
    "\n",
    "opt = tk.OptionMenu(app, variable, *OptionList, command=callback)\n",
    "opt.config(width=90, font=('Helvetica', 12))\n",
    "opt.pack(side=\"top\")\n",
    "\n",
    "\n",
    "tk.Label(textvariable=variable, font=('Helvetica', 12), fg='red').pack(side=\"top\")\n",
    "\n",
    "labelTest = tk.Label(text='', font=('Helvetica', 12), fg='red')\n",
    "labelTest.pack(side=\"top\")\n",
    "\n",
    "app.mainloop()"
   ]
  },
  {
   "cell_type": "markdown",
   "metadata": {},
   "source": [
    "**Observer 변수 사용**"
   ]
  },
  {
   "cell_type": "code",
   "execution_count": 1,
   "metadata": {},
   "outputs": [
    {
     "ename": "KeyboardInterrupt",
     "evalue": "",
     "output_type": "error",
     "traceback": [
      "\u001b[1;31m---------------------------------------------------------------------------\u001b[0m",
      "\u001b[1;31mKeyboardInterrupt\u001b[0m                         Traceback (most recent call last)",
      "\u001b[1;32mc:\\work\\python\\jupiter\\optionMenu_example.ipynb Cell 4'\u001b[0m in \u001b[0;36m<cell line: 29>\u001b[1;34m()\u001b[0m\n\u001b[0;32m     <a href='vscode-notebook-cell:/c%3A/work/python/jupiter/optionMenu_example.ipynb#ch0000003?line=24'>25</a>\u001b[0m     labelTest\u001b[39m.\u001b[39mconfigure(text\u001b[39m=\u001b[39m\u001b[39mf\u001b[39m\u001b[39m\"\u001b[39m\u001b[39mThe selected item is \u001b[39m\u001b[39m{\u001b[39;00mvariable\u001b[39m.\u001b[39mget()\u001b[39m}\u001b[39;00m\u001b[39m\"\u001b[39m)\n\u001b[0;32m     <a href='vscode-notebook-cell:/c%3A/work/python/jupiter/optionMenu_example.ipynb#ch0000003?line=26'>27</a>\u001b[0m variable\u001b[39m.\u001b[39mtrace(\u001b[39m\"\u001b[39m\u001b[39mw\u001b[39m\u001b[39m\"\u001b[39m, callback)\n\u001b[1;32m---> <a href='vscode-notebook-cell:/c%3A/work/python/jupiter/optionMenu_example.ipynb#ch0000003?line=28'>29</a>\u001b[0m app\u001b[39m.\u001b[39;49mmainloop()\n",
      "File \u001b[1;32mC:\\Python310\\lib\\tkinter\\__init__.py:1458\u001b[0m, in \u001b[0;36mMisc.mainloop\u001b[1;34m(self, n)\u001b[0m\n\u001b[0;32m   1456\u001b[0m \u001b[39mdef\u001b[39;00m \u001b[39mmainloop\u001b[39m(\u001b[39mself\u001b[39m, n\u001b[39m=\u001b[39m\u001b[39m0\u001b[39m):\n\u001b[0;32m   1457\u001b[0m     \u001b[39m\"\"\"Call the mainloop of Tk.\"\"\"\u001b[39;00m\n\u001b[1;32m-> 1458\u001b[0m     \u001b[39mself\u001b[39;49m\u001b[39m.\u001b[39;49mtk\u001b[39m.\u001b[39;49mmainloop(n)\n",
      "\u001b[1;31mKeyboardInterrupt\u001b[0m: "
     ]
    },
    {
     "ename": "",
     "evalue": "",
     "output_type": "error",
     "traceback": [
      "\u001b[1;31mThe Kernel crashed while executing code in the the current cell or a previous cell. Please review the code in the cell(s) to identify a possible cause of the failure. Click <a href='https://aka.ms/vscodeJupyterKernelCrash'>here</a> for more info. View Jupyter <a href='command:jupyter.viewOutput'>log</a> for further details."
     ]
    }
   ],
   "source": [
    "import tkinter as tk\n",
    "\n",
    "OptionList = [\n",
    "\"Aries\",\n",
    "\"Taurus\",\n",
    "\"Gemini\"\n",
    "] \n",
    "\n",
    "app = tk.Tk()\n",
    "\n",
    "app.geometry('300x200')\n",
    "\n",
    "variable = tk.StringVar(app)\n",
    "variable.set(OptionList[0])\n",
    "\n",
    "opt = tk.OptionMenu(app, variable, *OptionList)\n",
    "opt.config(width=90, font=('Helvetica', 12))\n",
    "opt.pack(side=\"top\")\n",
    "\n",
    "\n",
    "labelTest = tk.Label(text=\"\", font=('Helvetica', 12), fg='red')\n",
    "labelTest.pack(side=\"top\")\n",
    "\n",
    "def callback(*args):\n",
    "    labelTest.configure(text=f\"The selected item is {variable.get()}\")\n",
    "\n",
    "variable.trace(\"w\", callback)\n",
    "\n",
    "app.mainloop()"
   ]
  }
 ],
 "metadata": {
  "kernelspec": {
   "display_name": "Python 3.10.2 ('_venv': venv)",
   "language": "python",
   "name": "python3"
  },
  "language_info": {
   "codemirror_mode": {
    "name": "ipython",
    "version": 3
   },
   "file_extension": ".py",
   "mimetype": "text/x-python",
   "name": "python",
   "nbconvert_exporter": "python",
   "pygments_lexer": "ipython3",
   "version": "3.10.2"
  },
  "orig_nbformat": 4,
  "vscode": {
   "interpreter": {
    "hash": "85a5ea10e8d90634b53ecfa6b33e2101cc6e01e1e8ad7fba73ed982dd81d5947"
   }
  }
 },
 "nbformat": 4,
 "nbformat_minor": 2
}
