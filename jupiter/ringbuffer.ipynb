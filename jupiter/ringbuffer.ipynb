{
  "cells": [
    {
      "cell_type": "markdown",
      "metadata": {
        "id": "OmpggIQIheFm"
      },
      "source": [
        "# list를 이용한 python ring buffer 구현"
      ]
    },
    {
      "cell_type": "code",
      "execution_count": 1,
      "metadata": {
        "colab": {
          "base_uri": "https://localhost:8080/"
        },
        "id": "a5_h-ZMlhaTQ",
        "outputId": "f9e11ce0-8fd3-4650-a1d9-f00767f9a77c"
      },
      "outputs": [
        {
          "name": "stdout",
          "output_type": "stream",
          "text": [
            "[0, 0, 0, 0, 0]\n",
            "[0, 0, 0, 0, 0]\n",
            "0.0\n",
            "[0, 0, 0, 0, 1]\n",
            "[0, 0, 0, 0, 1]\n",
            "0.2\n",
            "[0, 0, 0, 1, 2]\n",
            "[0, 0, 0, 1, 2]\n",
            "0.6\n",
            "[0, 0, 1, 2, 3]\n",
            "[0, 0, 1, 2, 3]\n",
            "1.2\n",
            "[0, 1, 2, 3, 4]\n",
            "[0, 1, 2, 3, 4]\n",
            "2.0\n",
            "[1, 2, 3, 4, 5]\n",
            "[1, 2, 3, 4, 5]\n",
            "3.0\n"
          ]
        }
      ],
      "source": [
        "class RingBuffer:\n",
        "    def __init__(self, size):\n",
        "        self.buffsize = size\n",
        "        self.data = [0 for i in range(size)]\n",
        "\n",
        "    def append(self, x):\n",
        "        self.data.pop(0)\n",
        "        self.data.append(x)\n",
        "\n",
        "    def get(self):\n",
        "        return self.data\n",
        "\n",
        "    def mean(self):\n",
        "        print (self.data)\n",
        "        return sum(self.data) / self.buffsize\n",
        "        #return sum(self.data) / max(len(self.data),1)\n",
        "\n",
        "    def init(self):\n",
        "        for i in range(self.buffsize):\n",
        "            self.data[i] = 0\n",
        "        \n",
        "\n",
        "# sample usage\n",
        "if __name__=='__main__':\n",
        "    buf = RingBuffer(5)\n",
        "    for i in range(6):\n",
        "        buf.append(i)\n",
        "        print(buf.get())\n",
        "        print(buf.mean())"
      ]
    },
    {
      "cell_type": "markdown",
      "metadata": {
        "id": "S6cmBoFYszzb"
      },
      "source": [
        "# Another example class change"
      ]
    },
    {
      "cell_type": "code",
      "execution_count": 2,
      "metadata": {
        "colab": {
          "base_uri": "https://localhost:8080/"
        },
        "id": "IHsFCmc2s5SN",
        "outputId": "c63be374-4b6a-4e7f-c0b8-4f07823e132f"
      },
      "outputs": [
        {
          "name": "stdout",
          "output_type": "stream",
          "text": [
            "<class '__main__.RingBuffer'> [1, 2, 3, 4] 평균: 2.5\n",
            "<class '__main__.RingBufferFull'> [1, 2, 3, 4, 5] 평균: 3.0\n",
            "<class '__main__.RingBufferFull'> [2, 3, 4, 5, 6] 평균: 4.0\n"
          ]
        }
      ],
      "source": [
        "\"\"\" class that implements a not-yet-full buffer \"\"\"\n",
        "class RingBuffer:\n",
        "    def __init__(self,size_max):\n",
        "        self.max = size_max\n",
        "        self.data = []\n",
        "\n",
        "    def append(self,x):\n",
        "        self.data.append(x)\n",
        "        if len(self.data) == self.max:\n",
        "            # Permanently change self's class from non-full to full\n",
        "            self.__class__ = RingBufferFull\n",
        "            #print('Change full ringbuffer class')\n",
        "\n",
        "    def get(self):\n",
        "        return self.data\n",
        "\n",
        "    def mean(self):\n",
        "        return sum(self.data) / max(len(self.data),1)        \n",
        "\n",
        "\"\"\" class that implements a full buffer \"\"\"\n",
        "class RingBufferFull:\n",
        "    def append(self, x):\n",
        "        self.data.pop(0)      \n",
        "        self.data.append(x)\n",
        "\n",
        "    def get(self):\n",
        "        return self.data\n",
        "\n",
        "    def mean(self):\n",
        "        return sum(self.data) / self.max\n",
        "\n",
        "# sample usage\n",
        "if __name__ == '__main__':\n",
        "    x=RingBuffer(5)\n",
        "    x.append(1); x.append(2); x.append(3); x.append(4);\n",
        "    print(x.__class__, x.get(), '평균:', x.mean())\n",
        "\n",
        "    x.append(5);\n",
        "    print(x.__class__, x.get(), '평균:', x.mean())\n",
        "\n",
        "    x.append(6);\n",
        "    print(x.__class__, x.get(), '평균:', x.mean())"
      ]
    },
    {
      "cell_type": "markdown",
      "metadata": {
        "id": "3jI7w_6GiGML"
      },
      "source": [
        "# Another example"
      ]
    },
    {
      "cell_type": "code",
      "execution_count": 3,
      "metadata": {
        "colab": {
          "base_uri": "https://localhost:8080/"
        },
        "id": "7b3_P4dqiL9K",
        "outputId": "37282506-792f-4b69-b4ab-6d89ead82d5c"
      },
      "outputs": [
        {
          "name": "stdout",
          "output_type": "stream",
          "text": [
            "<class '__main__.RingBuffer'> [1, 2, 3, 4] 평균: 2.5\n",
            "<class '__main__.RingBuffer.__Full'> [1, 2, 3, 4, 5] 평균: 3.0\n",
            "<class '__main__.RingBuffer.__Full'> [2, 3, 4, 5, 6] 평균: 4.0\n",
            "<class '__main__.RingBuffer.__Full'> [6, 7, 8, 9, 10] 평균: 8.0\n"
          ]
        }
      ],
      "source": [
        "class RingBuffer:\n",
        "    \"\"\" class that implements a not-yet-full buffer \"\"\"\n",
        "    def __init__(self,size_max):\n",
        "        self.max = size_max\n",
        "        self.data = []\n",
        "\n",
        "    class __Full:\n",
        "        \"\"\" class that implements a full buffer \"\"\"\n",
        "        def append(self, x):\n",
        "            \"\"\" Append an element overwriting the oldest one. \"\"\"\n",
        "            self.data[self.cur] = x\n",
        "            self.cur = (self.cur+1) % self.max\n",
        "        def get(self):\n",
        "            \"\"\" return list of elements in correct order \"\"\"\n",
        "            return self.data[self.cur:] + self.data[:self.cur]\n",
        "        def mean(self):\n",
        "            #return sum(self.data) / self.max\n",
        "            return sum(self.data) / max(len(self.data),1)    \n",
        "\n",
        "    def append(self,x):\n",
        "        \"\"\"append an element at the end of the buffer\"\"\"\n",
        "        self.data.append(x)\n",
        "        if len(self.data) == self.max:\n",
        "            self.cur = 0\n",
        "            # Permanently change self's class from non-full to full\n",
        "            self.__class__ = self.__Full\n",
        "\n",
        "    def get(self):\n",
        "        \"\"\" Return a list of elements from the oldest to the newest. \"\"\"\n",
        "        return self.data\n",
        "\n",
        "    def mean(self):\n",
        "        #return sum(self.data) / self.max\n",
        "        return sum(self.data) / max(len(self.data),1)        \n",
        "\n",
        "# sample usage\n",
        "if __name__ == '__main__':\n",
        "    x=RingBuffer(5)\n",
        "    x.append(1); x.append(2); x.append(3); x.append(4)\n",
        "    print(x.__class__, x.get(), '평균:', x.mean())\n",
        "    x.append(5)\n",
        "    print(x.__class__, x.get(),'평균:', x.mean())\n",
        "    x.append(6)\n",
        "    print(x.__class__, x.get(),'평균:', x.mean())\n",
        "    x.append(7); x.append(8); x.append(9); x.append(10)\n",
        "    print(x.__class__, x.get(),'평균:', x.mean())         "
      ]
    }
  ],
  "metadata": {
    "colab": {
      "collapsed_sections": [],
      "name": "ringbuffer.ipynb",
      "provenance": []
    },
    "kernelspec": {
      "display_name": "Python 3.10.2 64-bit",
      "language": "python",
      "name": "python3"
    },
    "language_info": {
      "codemirror_mode": {
        "name": "ipython",
        "version": 3
      },
      "file_extension": ".py",
      "mimetype": "text/x-python",
      "name": "python",
      "nbconvert_exporter": "python",
      "pygments_lexer": "ipython3",
      "version": "3.10.2"
    },
    "vscode": {
      "interpreter": {
        "hash": "369f2c481f4da34e4445cda3fffd2e751bd1c4d706f27375911949ba6bb62e1c"
      }
    }
  },
  "nbformat": 4,
  "nbformat_minor": 0
}
