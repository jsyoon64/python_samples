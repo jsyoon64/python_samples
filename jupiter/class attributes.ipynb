{
 "cells": [
  {
   "cell_type": "markdown",
   "metadata": {},
   "source": [
    "# Private attributes\n",
    "Private attributes can be only accessible from the methods of the class. In other words, they cannot be accessible from outside of the class.\n",
    "\n",
    "_attribute"
   ]
  },
  {
   "cell_type": "code",
   "execution_count": null,
   "metadata": {},
   "outputs": [],
   "source": [
    "class Counter:\n",
    "    def __init__(self):\n",
    "        self._current = 0\n",
    "\n",
    "    def increment(self):\n",
    "        self._current += 1\n",
    "\n",
    "    def value(self):\n",
    "        return self._current\n",
    "\n",
    "    def reset(self):\n",
    "        self._current = 0"
   ]
  },
  {
   "cell_type": "markdown",
   "metadata": {},
   "source": [
    "# Name mangling with double underscores\n",
    "\n",
    "__attribute\n",
    "By doing this, you cannot access the __attribute directly from the outside of a class \n",
    ". However, you still can access it using the _class__attribute name\n",
    "instance._class__attribute"
   ]
  },
  {
   "cell_type": "code",
   "execution_count": null,
   "metadata": {},
   "outputs": [],
   "source": [
    "class Counter:\n",
    "    def __init__(self):\n",
    "        self.__current = 0\n",
    "\n",
    "    def increment(self):\n",
    "        self.__current += 1\n",
    "\n",
    "    def value(self):\n",
    "        return self.__current\n",
    "\n",
    "    def reset(self):\n",
    "        self.__current = 0\n",
    "\n",
    "counter = Counter()\n",
    "# print(counter.__current)\n",
    "print(counter._Counter__current)"
   ]
  },
  {
   "cell_type": "code",
   "execution_count": 3,
   "metadata": {},
   "outputs": [
    {
     "name": "stdout",
     "output_type": "stream",
     "text": [
      "True\n"
     ]
    }
   ],
   "source": [
    "x=1\n",
    "y=1\n",
    "z='x'\n",
    "if all((x != 'x', y != 'x', y>=1, z=='x')):\n",
    "    print (True)"
   ]
  }
 ],
 "metadata": {
  "kernelspec": {
   "display_name": "Python 3.10.2 ('_venv': venv)",
   "language": "python",
   "name": "python3"
  },
  "language_info": {
   "codemirror_mode": {
    "name": "ipython",
    "version": 3
   },
   "file_extension": ".py",
   "mimetype": "text/x-python",
   "name": "python",
   "nbconvert_exporter": "python",
   "pygments_lexer": "ipython3",
   "version": "3.10.2"
  },
  "orig_nbformat": 4,
  "vscode": {
   "interpreter": {
    "hash": "85a5ea10e8d90634b53ecfa6b33e2101cc6e01e1e8ad7fba73ed982dd81d5947"
   }
  }
 },
 "nbformat": 4,
 "nbformat_minor": 2
}
