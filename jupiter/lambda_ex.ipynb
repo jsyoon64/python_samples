{
  "nbformat": 4,
  "nbformat_minor": 0,
  "metadata": {
    "colab": {
      "name": "lambda_ex.ipynb",
      "provenance": [],
      "collapsed_sections": []
    },
    "kernelspec": {
      "name": "python3",
      "display_name": "Python 3"
    },
    "language_info": {
      "name": "python"
    }
  },
  "cells": [
    {
      "cell_type": "markdown",
      "source": [
        "# lambda 매개변수 : 표현식"
      ],
      "metadata": {
        "id": "NsQ13MyPpnwL"
      }
    },
    {
      "cell_type": "code",
      "execution_count": null,
      "metadata": {
        "colab": {
          "base_uri": "https://localhost:8080/"
        },
        "id": "26zc5w0ypeM7",
        "outputId": "8bf03e93-6a18-4d41-8d12-6636ca8aed89"
      },
      "outputs": [
        {
          "output_type": "execute_result",
          "data": {
            "text/plain": [
              "30"
            ]
          },
          "metadata": {},
          "execution_count": 1
        }
      ],
      "source": [
        "(lambda x,y: x + y)(10, 20)"
      ]
    },
    {
      "cell_type": "markdown",
      "source": [
        "# Map(함수, 리스트)\n",
        "함수와 리스트를 인자로 받는다."
      ],
      "metadata": {
        "id": "ttDETX3Jp8Ju"
      }
    },
    {
      "cell_type": "code",
      "source": [
        "list(map(lambda x: x ** 2, range(5)))"
      ],
      "metadata": {
        "colab": {
          "base_uri": "https://localhost:8080/"
        },
        "id": "GHTKZ7ORp-zX",
        "outputId": "6a22858a-6247-4c05-ad87-ed0e6b6002e4"
      },
      "execution_count": null,
      "outputs": [
        {
          "output_type": "execute_result",
          "data": {
            "text/plain": [
              "[0, 1, 4, 9, 16]"
            ]
          },
          "metadata": {},
          "execution_count": 2
        }
      ]
    },
    {
      "cell_type": "markdown",
      "source": [
        "# filter(함수, 리스트)"
      ],
      "metadata": {
        "id": "K-Y4h_FZquHA"
      }
    },
    {
      "cell_type": "code",
      "source": [
        "list(filter(lambda x: x < 5, range(10)))"
      ],
      "metadata": {
        "colab": {
          "base_uri": "https://localhost:8080/"
        },
        "id": "hniIl92Kq5A9",
        "outputId": "a2aff5fd-cbb3-427a-9589-7726d07f2e32"
      },
      "execution_count": null,
      "outputs": [
        {
          "output_type": "execute_result",
          "data": {
            "text/plain": [
              "[0, 1, 2, 3, 4]"
            ]
          },
          "metadata": {},
          "execution_count": 3
        }
      ]
    },
    {
      "cell_type": "markdown",
      "source": [
        "# sort()와 sorted()로 정렬하기\n",
        "sort()는 리스트만을 위한 메소드 : 리스트를 정렬된 상태로 변경한다.\n",
        "\n",
        "sorted() 함수는 어떤 이터러블 객체도 받을 수 있다, 이터러블 객체로부터 정렬된 리스트를 생성한다."
      ],
      "metadata": {
        "id": "ILfoF2I7sYLF"
      }
    },
    {
      "cell_type": "code",
      "source": [
        "myList = [4, 2, 3, 5, 1]\n",
        "myList.sort()\n",
        "print('\\n배열 sort():',myList)\n",
        "\n",
        "students = [\n",
        "        ('홍길동', 3.9, 2016303),\n",
        "        ('김철수', 3.0, 2016302),\n",
        "        ('최자영', 4.3, 2016301),\n",
        "]\n",
        "sorted_students = sorted(students, key=lambda student: student[2])\n",
        "print('\\ntuple 배열 sorted():', sorted_students)\n",
        "\n",
        "#내림차순으로 정렬\n",
        "sorted_students2 = sorted(students, key=lambda student: student[2], reverse=True)\n",
        "print('\\ntuple 배열 내림차순으로 정렬:',sorted_students2)"
      ],
      "metadata": {
        "colab": {
          "base_uri": "https://localhost:8080/"
        },
        "id": "J545PP3atBkO",
        "outputId": "f90a2044-ef27-499a-ed03-05d47c4848e8"
      },
      "execution_count": null,
      "outputs": [
        {
          "output_type": "stream",
          "name": "stdout",
          "text": [
            "\n",
            "배열 sort(): [1, 2, 3, 4, 5]\n",
            "\n",
            "tuple 배열 sorted(): [('최자영', 4.3, 2016301), ('김철수', 3.0, 2016302), ('홍길동', 3.9, 2016303)]\n",
            "\n",
            "tuple 배열 내림차순으로 정렬: [('홍길동', 3.9, 2016303), ('김철수', 3.0, 2016302), ('최자영', 4.3, 2016301)]\n"
          ]
        }
      ]
    },
    {
      "cell_type": "markdown",
      "source": [
        "# Dictionary Sort Lambda"
      ],
      "metadata": {
        "id": "1P4t_wetuy2V"
      }
    },
    {
      "cell_type": "code",
      "source": [
        "#list 일 경우\n",
        "new_dict = sorted(students, key=lambda x:x[1], reverse=True)\n",
        "print('list:',new_dict)\n",
        "      \n",
        "#dictionary 일 경우 \n",
        "score_dict = {\n",
        "    'sam':23,\n",
        "    'john':30,\n",
        "    'mathew':29,\n",
        "    'riti':27,\n",
        "    'aadi':31,\n",
        "    'sachin':28\n",
        "}\n",
        "new_dict = sorted(score_dict.items(), key=lambda x:x[1], reverse=True)\n",
        "print('dictionary:',new_dict)\n",
        "\n",
        "new_dict = sorted(score_dict, key=lambda x:x[1], reverse=True)\n",
        "print('dictionary:',new_dict)\n",
        "\n",
        "# 점수가 높은 3명만 뽑고 싶다면\n",
        "new_dict = sorted(score_dict, key=lambda x:x[1], reverse=True)[:3]\n",
        "print(new_dict)"
      ],
      "metadata": {
        "colab": {
          "base_uri": "https://localhost:8080/"
        },
        "id": "MhMcDWlbvAr-",
        "outputId": "76cbed30-830e-407d-c991-a6bf67fb5115"
      },
      "execution_count": null,
      "outputs": [
        {
          "output_type": "stream",
          "name": "stdout",
          "text": [
            "list: [('최자영', 4.3, 2016301), ('홍길동', 3.9, 2016303), ('김철수', 3.0, 2016302)]\n",
            "dictionary: [('aadi', 31), ('john', 30), ('mathew', 29), ('sachin', 28), ('riti', 27), ('sam', 23)]\n",
            "dictionary: ['john', 'riti', 'sam', 'mathew', 'aadi', 'sachin']\n",
            "['john', 'riti', 'sam']\n"
          ]
        }
      ]
    },
    {
      "cell_type": "markdown",
      "source": [
        "# Max Value\n",
        "max(iterable, *[, default=obj, key=func]) -> value"
      ],
      "metadata": {
        "id": "ucya64rtxsAY"
      }
    },
    {
      "cell_type": "code",
      "source": [
        "stats = {'a':1000, 'b':3000, 'c': 100, 'd':3000}\n",
        "max_key = max(stats, key=lambda k: stats[k])\n",
        "\n",
        "print(max_key)"
      ],
      "metadata": {
        "colab": {
          "base_uri": "https://localhost:8080/"
        },
        "id": "0xcwM4XBxu2I",
        "outputId": "6a65e455-1094-434a-f610-d5b4c44e419b"
      },
      "execution_count": null,
      "outputs": [
        {
          "output_type": "stream",
          "name": "stdout",
          "text": [
            "b\n"
          ]
        }
      ]
    },
    {
      "cell_type": "markdown",
      "source": [
        "# Min Value\n",
        "min(iterable, *[, default=obj, key=func]) -> value"
      ],
      "metadata": {
        "id": "Tcmod3BFycZy"
      }
    },
    {
      "cell_type": "code",
      "source": [
        "min_key = min(stats, key=lambda k: stats[k])\n",
        "\n",
        "print(min_key)"
      ],
      "metadata": {
        "colab": {
          "base_uri": "https://localhost:8080/"
        },
        "id": "Lszu6Wxuy7zC",
        "outputId": "9b53749d-9ea2-4c8f-d333-70fd87e385e8"
      },
      "execution_count": null,
      "outputs": [
        {
          "output_type": "stream",
          "name": "stdout",
          "text": [
            "c\n"
          ]
        }
      ]
    }
  ]
}