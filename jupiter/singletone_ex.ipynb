{
 "cells": [
  {
   "cell_type": "markdown",
   "metadata": {},
   "source": [
    "# Singleton"
   ]
  },
  {
   "cell_type": "markdown",
   "metadata": {},
   "source": [
    "## 1. using decorator"
   ]
  },
  {
   "cell_type": "code",
   "execution_count": 10,
   "metadata": {},
   "outputs": [
    {
     "name": "stdout",
     "output_type": "stream",
     "text": [
      "[(1, 2, 3, 4, 5)], [1, 2, 3, 4, 5], 20, 5\n",
      "[(1, 2, 3, 4, 5)], [1, 2, 3, 4, 5], 20, 5\n"
     ]
    }
   ],
   "source": [
    "class MyEvtHandler(object):\n",
    "\tdef __init__(self):\n",
    "\t\tself.__eventhandlersample = []\n",
    "\t\n",
    "\tdef __iadd__(self, Ehandler): \n",
    "\t\tself.__eventhandlersample.append(Ehandler) \n",
    "\t\treturn self\n",
    "\n",
    "\tdef __isub__(self, Ehandler): \n",
    "\t\tself.__eventhandlersample.remove(Ehandler) \n",
    "\t\treturn self\n",
    "\n",
    "\tdef __call__(self, *args, **keywargs): \n",
    "\t\tfor eventhandlersample in self.__eventhandlersample: \n",
    "\t\t\teventhandlersample(*args, **keywargs)                 \n",
    "\n",
    "\t#def get(self):\n",
    "\tdef __repr__(self):\n",
    "\t\t#return \",\".join( map(lambda x :str(x.__name__), self.__eventhandlersample) )\n",
    "\t\treturn \",\".join( map(lambda x :str(x.__qualname__), self.__eventhandlersample) )\n",
    "\n",
    "def singleton(class_):\n",
    "    instances = {}\n",
    "    def getinstance(*args, **kwargs):\n",
    "        if class_ not in instances:\n",
    "            instances[class_] = class_(*args, **kwargs)\n",
    "        return instances[class_]\n",
    "    return getinstance\n",
    "\n",
    "@singleton\n",
    "class Sample():\n",
    "    fulllists = list(tuple())\n",
    "    lastlist = list()  \n",
    "    maxdevlist:int = 20\n",
    "    lastindex:int = 0\n",
    "\n",
    "    datachanged = MyEvtHandler()\n",
    "\n",
    "    def __init__(self, handler=None):\n",
    "        if handler is not None:\n",
    "            self.datachanged += handler\n",
    "\n",
    "    def __repr__(self):\n",
    "        return f'fulllists={self.fulllists}, lastlists={self.lastlist},\\\n",
    "             maxdevlist={self.maxdevlist}, lasindex={self.lastindex}'\n",
    "\n",
    "    def add(self, data:list):\n",
    "        self.fulllists.append(tuple(data))\n",
    "\n",
    "        self.lastlist.clear()\n",
    "        for item in data:\n",
    "            self.lastlist.append(item)\n",
    "\n",
    "        if len(self.fulllists) > self.maxdevlist :\n",
    "            del self.fulllists[0]   \n",
    "\n",
    "    def addaction(self, data:list):\n",
    "        self.add(data)\n",
    "        self.action()\n",
    "\n",
    "    def action(self):\n",
    "        self.datachanged()\n",
    "\n",
    "    def clear_data(self, name=None):\n",
    "        self.fulllists.clear()\n",
    "        self.lastlist.clear()\n",
    "        self.lastindex = 0         \n",
    "\n",
    "\n",
    "def tst_printa():\n",
    "    print('A')\n",
    "\n",
    "\n",
    "def tst_printb():\n",
    "    print('B')\n",
    "\n",
    "x = Sample(tst_printa);\n",
    "y = Sample(tst_printb);\n",
    "y.lastindex = 5\n",
    "y.add([1,2,3,4,5])\n",
    "\n",
    "print(x)\n",
    "print(y)\n"
   ]
  },
  {
   "cell_type": "code",
   "execution_count": 11,
   "metadata": {},
   "outputs": [
    {
     "name": "stdout",
     "output_type": "stream",
     "text": [
      "test1(fulllists=[], lastlist=[])\n"
     ]
    }
   ],
   "source": [
    "from dataclasses import dataclass, field\n",
    "\n",
    "@dataclass\n",
    "class test1:\n",
    "    fulllists:list = field(default_factory=list)\n",
    "    lastlist:list = field(default_factory=list)\n",
    "\n",
    "\n",
    "a = test1()\n",
    "\n",
    "print (a)"
   ]
  }
 ],
 "metadata": {
  "kernelspec": {
   "display_name": "Python 3.10.2 ('_venv': venv)",
   "language": "python",
   "name": "python3"
  },
  "language_info": {
   "codemirror_mode": {
    "name": "ipython",
    "version": 3
   },
   "file_extension": ".py",
   "mimetype": "text/x-python",
   "name": "python",
   "nbconvert_exporter": "python",
   "pygments_lexer": "ipython3",
   "version": "3.10.2"
  },
  "orig_nbformat": 4,
  "vscode": {
   "interpreter": {
    "hash": "85a5ea10e8d90634b53ecfa6b33e2101cc6e01e1e8ad7fba73ed982dd81d5947"
   }
  }
 },
 "nbformat": 4,
 "nbformat_minor": 2
}
